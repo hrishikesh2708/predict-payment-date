{
 "cells": [
  {
   "cell_type": "code",
   "execution_count": 1,
   "id": "f409edce",
   "metadata": {
    "id": "f409edce"
   },
   "outputs": [],
   "source": [
    "# Importing in Common Data Science Libraries\n",
    "import pandas as pd\n",
    "import numpy as np\n",
    "import math\n",
    "from sklearn.feature_selection import VarianceThreshold\n",
    "\n",
    "import matplotlib.pyplot as plt\n",
    "import seaborn as sns\n",
    "from sklearn.preprocessing import LabelEncoder\n",
    "from sklearn.metrics import r2_score\n",
    "from scipy import stats\n",
    "from sklearn.preprocessing import StandardScaler\n",
    "\n",
    "# Modeling & Accuracy Metrics\n",
    "from sklearn.linear_model import LinearRegression\n",
    "from sklearn.metrics import mean_squared_error\n",
    "from sklearn.tree import DecisionTreeRegressor\n",
    "from sklearn.svm import SVR\n",
    "from xgboost.sklearn import XGBRegressor\n",
    "from sklearn.metrics import r2_score"
   ]
  },
  {
   "cell_type": "markdown",
   "id": "bc35ebc5",
   "metadata": {
    "id": "bc35ebc5"
   },
   "source": [
    "### Reading Dataset"
   ]
  },
  {
   "cell_type": "code",
   "execution_count": 2,
   "id": "e1cb781b",
   "metadata": {
    "id": "e1cb781b"
   },
   "outputs": [],
   "source": [
    "data = pd.read_csv(r'H2HBABBA2570.csv')"
   ]
  },
  {
   "cell_type": "code",
   "execution_count": 3,
   "id": "49a524d9",
   "metadata": {
    "id": "49a524d9",
    "outputId": "bac95c2a-8439-4195-ed2f-7b4a761bc07a"
   },
   "outputs": [
    {
     "name": "stdout",
     "output_type": "stream",
     "text": [
      "<class 'pandas.core.frame.DataFrame'>\n",
      "RangeIndex: 50000 entries, 0 to 49999\n",
      "Data columns (total 19 columns):\n",
      " #   Column                  Non-Null Count  Dtype  \n",
      "---  ------                  --------------  -----  \n",
      " 0   business_code           50000 non-null  object \n",
      " 1   cust_number             50000 non-null  object \n",
      " 2   name_customer           50000 non-null  object \n",
      " 3   clear_date              40000 non-null  object \n",
      " 4   buisness_year           50000 non-null  float64\n",
      " 5   doc_id                  50000 non-null  float64\n",
      " 6   posting_date            50000 non-null  object \n",
      " 7   document_create_date    50000 non-null  int64  \n",
      " 8   document_create_date.1  50000 non-null  int64  \n",
      " 9   due_in_date             50000 non-null  float64\n",
      " 10  invoice_currency        50000 non-null  object \n",
      " 11  document type           50000 non-null  object \n",
      " 12  posting_id              50000 non-null  float64\n",
      " 13  area_business           0 non-null      float64\n",
      " 14  total_open_amount       50000 non-null  float64\n",
      " 15  baseline_create_date    50000 non-null  float64\n",
      " 16  cust_payment_terms      50000 non-null  object \n",
      " 17  invoice_id              49995 non-null  float64\n",
      " 18  isOpen                  50000 non-null  int64  \n",
      "dtypes: float64(8), int64(3), object(8)\n",
      "memory usage: 7.2+ MB\n"
     ]
    },
    {
     "data": {
      "text/html": [
       "<div>\n",
       "<style scoped>\n",
       "    .dataframe tbody tr th:only-of-type {\n",
       "        vertical-align: middle;\n",
       "    }\n",
       "\n",
       "    .dataframe tbody tr th {\n",
       "        vertical-align: top;\n",
       "    }\n",
       "\n",
       "    .dataframe thead th {\n",
       "        text-align: right;\n",
       "    }\n",
       "</style>\n",
       "<table border=\"1\" class=\"dataframe\">\n",
       "  <thead>\n",
       "    <tr style=\"text-align: right;\">\n",
       "      <th></th>\n",
       "      <th>business_code</th>\n",
       "      <th>cust_number</th>\n",
       "      <th>name_customer</th>\n",
       "      <th>clear_date</th>\n",
       "      <th>buisness_year</th>\n",
       "      <th>doc_id</th>\n",
       "      <th>posting_date</th>\n",
       "      <th>document_create_date</th>\n",
       "      <th>document_create_date.1</th>\n",
       "      <th>due_in_date</th>\n",
       "      <th>invoice_currency</th>\n",
       "      <th>document type</th>\n",
       "      <th>posting_id</th>\n",
       "      <th>area_business</th>\n",
       "      <th>total_open_amount</th>\n",
       "      <th>baseline_create_date</th>\n",
       "      <th>cust_payment_terms</th>\n",
       "      <th>invoice_id</th>\n",
       "      <th>isOpen</th>\n",
       "    </tr>\n",
       "  </thead>\n",
       "  <tbody>\n",
       "    <tr>\n",
       "      <th>0</th>\n",
       "      <td>U001</td>\n",
       "      <td>0200769623</td>\n",
       "      <td>WAL-MAR foundation</td>\n",
       "      <td>2019-12-17 00:00:00</td>\n",
       "      <td>2019.0</td>\n",
       "      <td>1.930220e+09</td>\n",
       "      <td>2019-12-06</td>\n",
       "      <td>20191205</td>\n",
       "      <td>20191206</td>\n",
       "      <td>20191221.0</td>\n",
       "      <td>USD</td>\n",
       "      <td>RV</td>\n",
       "      <td>1.0</td>\n",
       "      <td>NaN</td>\n",
       "      <td>16508.55</td>\n",
       "      <td>20191206.0</td>\n",
       "      <td>NAH4</td>\n",
       "      <td>1.930220e+09</td>\n",
       "      <td>0</td>\n",
       "    </tr>\n",
       "    <tr>\n",
       "      <th>1</th>\n",
       "      <td>U001</td>\n",
       "      <td>0200780383</td>\n",
       "      <td>MEIJ llc</td>\n",
       "      <td>2020-02-28 00:00:00</td>\n",
       "      <td>2020.0</td>\n",
       "      <td>1.930512e+09</td>\n",
       "      <td>2020-02-11</td>\n",
       "      <td>20200211</td>\n",
       "      <td>20200211</td>\n",
       "      <td>20200226.0</td>\n",
       "      <td>USD</td>\n",
       "      <td>RV</td>\n",
       "      <td>1.0</td>\n",
       "      <td>NaN</td>\n",
       "      <td>49294.01</td>\n",
       "      <td>20200211.0</td>\n",
       "      <td>NAA8</td>\n",
       "      <td>1.930512e+09</td>\n",
       "      <td>0</td>\n",
       "    </tr>\n",
       "    <tr>\n",
       "      <th>2</th>\n",
       "      <td>U001</td>\n",
       "      <td>200769623</td>\n",
       "      <td>WAL-MAR</td>\n",
       "      <td>NaN</td>\n",
       "      <td>2020.0</td>\n",
       "      <td>1.930881e+09</td>\n",
       "      <td>2020-05-09</td>\n",
       "      <td>20200508</td>\n",
       "      <td>20200509</td>\n",
       "      <td>20200524.0</td>\n",
       "      <td>USD</td>\n",
       "      <td>RV</td>\n",
       "      <td>1.0</td>\n",
       "      <td>NaN</td>\n",
       "      <td>2851.12</td>\n",
       "      <td>20200509.0</td>\n",
       "      <td>NAH4</td>\n",
       "      <td>1.930881e+09</td>\n",
       "      <td>1</td>\n",
       "    </tr>\n",
       "    <tr>\n",
       "      <th>3</th>\n",
       "      <td>U001</td>\n",
       "      <td>0200148860</td>\n",
       "      <td>DOLLA foundation</td>\n",
       "      <td>NaN</td>\n",
       "      <td>2020.0</td>\n",
       "      <td>1.930724e+09</td>\n",
       "      <td>2020-04-02</td>\n",
       "      <td>20200331</td>\n",
       "      <td>20200402</td>\n",
       "      <td>20200417.0</td>\n",
       "      <td>USD</td>\n",
       "      <td>RV</td>\n",
       "      <td>1.0</td>\n",
       "      <td>NaN</td>\n",
       "      <td>13529.55</td>\n",
       "      <td>20200402.0</td>\n",
       "      <td>NAA8</td>\n",
       "      <td>1.930724e+09</td>\n",
       "      <td>1</td>\n",
       "    </tr>\n",
       "    <tr>\n",
       "      <th>4</th>\n",
       "      <td>U001</td>\n",
       "      <td>0200762301</td>\n",
       "      <td>C&amp;S WH in</td>\n",
       "      <td>2019-01-23 00:00:00</td>\n",
       "      <td>2019.0</td>\n",
       "      <td>1.928578e+09</td>\n",
       "      <td>2019-01-07</td>\n",
       "      <td>20190105</td>\n",
       "      <td>20190107</td>\n",
       "      <td>20190122.0</td>\n",
       "      <td>USD</td>\n",
       "      <td>RV</td>\n",
       "      <td>1.0</td>\n",
       "      <td>NaN</td>\n",
       "      <td>4443.64</td>\n",
       "      <td>20190107.0</td>\n",
       "      <td>NAC6</td>\n",
       "      <td>1.928578e+09</td>\n",
       "      <td>0</td>\n",
       "    </tr>\n",
       "  </tbody>\n",
       "</table>\n",
       "</div>"
      ],
      "text/plain": [
       "  business_code cust_number       name_customer           clear_date  \\\n",
       "0          U001  0200769623  WAL-MAR foundation  2019-12-17 00:00:00   \n",
       "1          U001  0200780383            MEIJ llc  2020-02-28 00:00:00   \n",
       "2          U001   200769623            WAL-MAR                   NaN   \n",
       "3          U001  0200148860    DOLLA foundation                  NaN   \n",
       "4          U001  0200762301           C&S WH in  2019-01-23 00:00:00   \n",
       "\n",
       "   buisness_year        doc_id posting_date  document_create_date  \\\n",
       "0         2019.0  1.930220e+09   2019-12-06              20191205   \n",
       "1         2020.0  1.930512e+09   2020-02-11              20200211   \n",
       "2         2020.0  1.930881e+09   2020-05-09              20200508   \n",
       "3         2020.0  1.930724e+09   2020-04-02              20200331   \n",
       "4         2019.0  1.928578e+09   2019-01-07              20190105   \n",
       "\n",
       "   document_create_date.1  due_in_date invoice_currency document type  \\\n",
       "0                20191206   20191221.0              USD            RV   \n",
       "1                20200211   20200226.0              USD            RV   \n",
       "2                20200509   20200524.0              USD            RV   \n",
       "3                20200402   20200417.0              USD            RV   \n",
       "4                20190107   20190122.0              USD            RV   \n",
       "\n",
       "   posting_id  area_business  total_open_amount  baseline_create_date  \\\n",
       "0         1.0            NaN           16508.55            20191206.0   \n",
       "1         1.0            NaN           49294.01            20200211.0   \n",
       "2         1.0            NaN            2851.12            20200509.0   \n",
       "3         1.0            NaN           13529.55            20200402.0   \n",
       "4         1.0            NaN            4443.64            20190107.0   \n",
       "\n",
       "  cust_payment_terms    invoice_id  isOpen  \n",
       "0               NAH4  1.930220e+09       0  \n",
       "1               NAA8  1.930512e+09       0  \n",
       "2               NAH4  1.930881e+09       1  \n",
       "3               NAA8  1.930724e+09       1  \n",
       "4               NAC6  1.928578e+09       0  "
      ]
     },
     "execution_count": 3,
     "metadata": {},
     "output_type": "execute_result"
    }
   ],
   "source": [
    "data.info()\n",
    "data.head()"
   ]
  },
  {
   "cell_type": "markdown",
   "id": "4a68835d",
   "metadata": {
    "id": "4a68835d"
   },
   "source": [
    "## Removing data having NaN values and assigning it to testing data set \n"
   ]
  },
  {
   "cell_type": "code",
   "execution_count": 4,
   "id": "19413488",
   "metadata": {
    "id": "19413488",
    "outputId": "1ed84040-c089-42f9-b25f-bd25c520ec04"
   },
   "outputs": [
    {
     "name": "stdout",
     "output_type": "stream",
     "text": [
      "(array([False,  True]), array([40000, 10000], dtype=int64))\n"
     ]
    },
    {
     "data": {
      "text/html": [
       "<div>\n",
       "<style scoped>\n",
       "    .dataframe tbody tr th:only-of-type {\n",
       "        vertical-align: middle;\n",
       "    }\n",
       "\n",
       "    .dataframe tbody tr th {\n",
       "        vertical-align: top;\n",
       "    }\n",
       "\n",
       "    .dataframe thead th {\n",
       "        text-align: right;\n",
       "    }\n",
       "</style>\n",
       "<table border=\"1\" class=\"dataframe\">\n",
       "  <thead>\n",
       "    <tr style=\"text-align: right;\">\n",
       "      <th></th>\n",
       "      <th>business_code</th>\n",
       "      <th>cust_number</th>\n",
       "      <th>name_customer</th>\n",
       "      <th>clear_date</th>\n",
       "      <th>buisness_year</th>\n",
       "      <th>doc_id</th>\n",
       "      <th>posting_date</th>\n",
       "      <th>document_create_date</th>\n",
       "      <th>document_create_date.1</th>\n",
       "      <th>due_in_date</th>\n",
       "      <th>invoice_currency</th>\n",
       "      <th>document type</th>\n",
       "      <th>posting_id</th>\n",
       "      <th>area_business</th>\n",
       "      <th>total_open_amount</th>\n",
       "      <th>baseline_create_date</th>\n",
       "      <th>cust_payment_terms</th>\n",
       "      <th>invoice_id</th>\n",
       "      <th>isOpen</th>\n",
       "    </tr>\n",
       "  </thead>\n",
       "  <tbody>\n",
       "    <tr>\n",
       "      <th>0</th>\n",
       "      <td>U001</td>\n",
       "      <td>0200769623</td>\n",
       "      <td>WAL-MAR foundation</td>\n",
       "      <td>2019-12-17 00:00:00</td>\n",
       "      <td>2019.0</td>\n",
       "      <td>1.930220e+09</td>\n",
       "      <td>2019-12-06</td>\n",
       "      <td>20191205</td>\n",
       "      <td>20191206</td>\n",
       "      <td>20191221.0</td>\n",
       "      <td>USD</td>\n",
       "      <td>RV</td>\n",
       "      <td>1.0</td>\n",
       "      <td>NaN</td>\n",
       "      <td>16508.55</td>\n",
       "      <td>20191206.0</td>\n",
       "      <td>NAH4</td>\n",
       "      <td>1.930220e+09</td>\n",
       "      <td>0</td>\n",
       "    </tr>\n",
       "    <tr>\n",
       "      <th>1</th>\n",
       "      <td>U001</td>\n",
       "      <td>0200780383</td>\n",
       "      <td>MEIJ llc</td>\n",
       "      <td>2020-02-28 00:00:00</td>\n",
       "      <td>2020.0</td>\n",
       "      <td>1.930512e+09</td>\n",
       "      <td>2020-02-11</td>\n",
       "      <td>20200211</td>\n",
       "      <td>20200211</td>\n",
       "      <td>20200226.0</td>\n",
       "      <td>USD</td>\n",
       "      <td>RV</td>\n",
       "      <td>1.0</td>\n",
       "      <td>NaN</td>\n",
       "      <td>49294.01</td>\n",
       "      <td>20200211.0</td>\n",
       "      <td>NAA8</td>\n",
       "      <td>1.930512e+09</td>\n",
       "      <td>0</td>\n",
       "    </tr>\n",
       "    <tr>\n",
       "      <th>2</th>\n",
       "      <td>U001</td>\n",
       "      <td>0200762301</td>\n",
       "      <td>C&amp;S WH in</td>\n",
       "      <td>2019-01-23 00:00:00</td>\n",
       "      <td>2019.0</td>\n",
       "      <td>1.928578e+09</td>\n",
       "      <td>2019-01-07</td>\n",
       "      <td>20190105</td>\n",
       "      <td>20190107</td>\n",
       "      <td>20190122.0</td>\n",
       "      <td>USD</td>\n",
       "      <td>RV</td>\n",
       "      <td>1.0</td>\n",
       "      <td>NaN</td>\n",
       "      <td>4443.64</td>\n",
       "      <td>20190107.0</td>\n",
       "      <td>NAC6</td>\n",
       "      <td>1.928578e+09</td>\n",
       "      <td>0</td>\n",
       "    </tr>\n",
       "    <tr>\n",
       "      <th>3</th>\n",
       "      <td>CA02</td>\n",
       "      <td>0140104440</td>\n",
       "      <td>SO systems</td>\n",
       "      <td>2019-06-20 00:00:00</td>\n",
       "      <td>2019.0</td>\n",
       "      <td>2.960554e+09</td>\n",
       "      <td>2019-06-06</td>\n",
       "      <td>20190606</td>\n",
       "      <td>20190606</td>\n",
       "      <td>20190617.0</td>\n",
       "      <td>CAD</td>\n",
       "      <td>RV</td>\n",
       "      <td>1.0</td>\n",
       "      <td>NaN</td>\n",
       "      <td>233272.42</td>\n",
       "      <td>20190607.0</td>\n",
       "      <td>CA10</td>\n",
       "      <td>2.960554e+09</td>\n",
       "      <td>0</td>\n",
       "    </tr>\n",
       "    <tr>\n",
       "      <th>4</th>\n",
       "      <td>U001</td>\n",
       "      <td>0200416837</td>\n",
       "      <td>DEC systems</td>\n",
       "      <td>2019-07-01 00:00:00</td>\n",
       "      <td>2019.0</td>\n",
       "      <td>1.929515e+09</td>\n",
       "      <td>2019-06-19</td>\n",
       "      <td>20190619</td>\n",
       "      <td>20190619</td>\n",
       "      <td>20190709.0</td>\n",
       "      <td>USD</td>\n",
       "      <td>RV</td>\n",
       "      <td>1.0</td>\n",
       "      <td>NaN</td>\n",
       "      <td>412.08</td>\n",
       "      <td>20190616.0</td>\n",
       "      <td>NAM4</td>\n",
       "      <td>1.929515e+09</td>\n",
       "      <td>0</td>\n",
       "    </tr>\n",
       "    <tr>\n",
       "      <th>...</th>\n",
       "      <td>...</td>\n",
       "      <td>...</td>\n",
       "      <td>...</td>\n",
       "      <td>...</td>\n",
       "      <td>...</td>\n",
       "      <td>...</td>\n",
       "      <td>...</td>\n",
       "      <td>...</td>\n",
       "      <td>...</td>\n",
       "      <td>...</td>\n",
       "      <td>...</td>\n",
       "      <td>...</td>\n",
       "      <td>...</td>\n",
       "      <td>...</td>\n",
       "      <td>...</td>\n",
       "      <td>...</td>\n",
       "      <td>...</td>\n",
       "      <td>...</td>\n",
       "      <td>...</td>\n",
       "    </tr>\n",
       "    <tr>\n",
       "      <th>39995</th>\n",
       "      <td>U001</td>\n",
       "      <td>0200705742</td>\n",
       "      <td>DOT corporation</td>\n",
       "      <td>2019-07-22 00:00:00</td>\n",
       "      <td>2019.0</td>\n",
       "      <td>1.929578e+09</td>\n",
       "      <td>2019-07-05</td>\n",
       "      <td>20190705</td>\n",
       "      <td>20190705</td>\n",
       "      <td>20190808.0</td>\n",
       "      <td>USD</td>\n",
       "      <td>RV</td>\n",
       "      <td>1.0</td>\n",
       "      <td>NaN</td>\n",
       "      <td>3607.05</td>\n",
       "      <td>20190705.0</td>\n",
       "      <td>NAAW</td>\n",
       "      <td>1.929578e+09</td>\n",
       "      <td>0</td>\n",
       "    </tr>\n",
       "    <tr>\n",
       "      <th>39996</th>\n",
       "      <td>U001</td>\n",
       "      <td>0200769623</td>\n",
       "      <td>WAL-MAR corporation</td>\n",
       "      <td>2019-06-10 00:00:00</td>\n",
       "      <td>2019.0</td>\n",
       "      <td>1.929395e+09</td>\n",
       "      <td>2019-05-30</td>\n",
       "      <td>20190529</td>\n",
       "      <td>20190530</td>\n",
       "      <td>20190614.0</td>\n",
       "      <td>USD</td>\n",
       "      <td>RV</td>\n",
       "      <td>1.0</td>\n",
       "      <td>NaN</td>\n",
       "      <td>7255.32</td>\n",
       "      <td>20190530.0</td>\n",
       "      <td>NAH4</td>\n",
       "      <td>1.929395e+09</td>\n",
       "      <td>0</td>\n",
       "    </tr>\n",
       "    <tr>\n",
       "      <th>39997</th>\n",
       "      <td>U001</td>\n",
       "      <td>0200749225</td>\n",
       "      <td>SUPER  in</td>\n",
       "      <td>2019-12-20 00:00:00</td>\n",
       "      <td>2019.0</td>\n",
       "      <td>1.930216e+09</td>\n",
       "      <td>2019-12-05</td>\n",
       "      <td>20191204</td>\n",
       "      <td>20191205</td>\n",
       "      <td>20191220.0</td>\n",
       "      <td>USD</td>\n",
       "      <td>RV</td>\n",
       "      <td>1.0</td>\n",
       "      <td>NaN</td>\n",
       "      <td>44276.86</td>\n",
       "      <td>20191205.0</td>\n",
       "      <td>NAA8</td>\n",
       "      <td>1.930216e+09</td>\n",
       "      <td>0</td>\n",
       "    </tr>\n",
       "    <tr>\n",
       "      <th>39998</th>\n",
       "      <td>U001</td>\n",
       "      <td>0200762301</td>\n",
       "      <td>C&amp;S WH associates</td>\n",
       "      <td>2019-05-31 00:00:00</td>\n",
       "      <td>2019.0</td>\n",
       "      <td>1.929028e+09</td>\n",
       "      <td>2019-03-27</td>\n",
       "      <td>20190326</td>\n",
       "      <td>20190327</td>\n",
       "      <td>20190531.0</td>\n",
       "      <td>USD</td>\n",
       "      <td>RV</td>\n",
       "      <td>1.0</td>\n",
       "      <td>NaN</td>\n",
       "      <td>5012.06</td>\n",
       "      <td>20190327.0</td>\n",
       "      <td>NAGD</td>\n",
       "      <td>1.929028e+09</td>\n",
       "      <td>0</td>\n",
       "    </tr>\n",
       "    <tr>\n",
       "      <th>39999</th>\n",
       "      <td>U001</td>\n",
       "      <td>0200777735</td>\n",
       "      <td>NASH</td>\n",
       "      <td>2019-02-01 00:00:00</td>\n",
       "      <td>2019.0</td>\n",
       "      <td>1.928644e+09</td>\n",
       "      <td>2019-01-17</td>\n",
       "      <td>20190118</td>\n",
       "      <td>20190117</td>\n",
       "      <td>20190201.0</td>\n",
       "      <td>USD</td>\n",
       "      <td>RV</td>\n",
       "      <td>1.0</td>\n",
       "      <td>NaN</td>\n",
       "      <td>7918.97</td>\n",
       "      <td>20190117.0</td>\n",
       "      <td>NAA8</td>\n",
       "      <td>1.928644e+09</td>\n",
       "      <td>0</td>\n",
       "    </tr>\n",
       "  </tbody>\n",
       "</table>\n",
       "<p>40000 rows × 19 columns</p>\n",
       "</div>"
      ],
      "text/plain": [
       "      business_code cust_number        name_customer           clear_date  \\\n",
       "0              U001  0200769623   WAL-MAR foundation  2019-12-17 00:00:00   \n",
       "1              U001  0200780383             MEIJ llc  2020-02-28 00:00:00   \n",
       "2              U001  0200762301            C&S WH in  2019-01-23 00:00:00   \n",
       "3              CA02  0140104440           SO systems  2019-06-20 00:00:00   \n",
       "4              U001  0200416837          DEC systems  2019-07-01 00:00:00   \n",
       "...             ...         ...                  ...                  ...   \n",
       "39995          U001  0200705742      DOT corporation  2019-07-22 00:00:00   \n",
       "39996          U001  0200769623  WAL-MAR corporation  2019-06-10 00:00:00   \n",
       "39997          U001  0200749225            SUPER  in  2019-12-20 00:00:00   \n",
       "39998          U001  0200762301    C&S WH associates  2019-05-31 00:00:00   \n",
       "39999          U001  0200777735               NASH    2019-02-01 00:00:00   \n",
       "\n",
       "       buisness_year        doc_id posting_date  document_create_date  \\\n",
       "0             2019.0  1.930220e+09   2019-12-06              20191205   \n",
       "1             2020.0  1.930512e+09   2020-02-11              20200211   \n",
       "2             2019.0  1.928578e+09   2019-01-07              20190105   \n",
       "3             2019.0  2.960554e+09   2019-06-06              20190606   \n",
       "4             2019.0  1.929515e+09   2019-06-19              20190619   \n",
       "...              ...           ...          ...                   ...   \n",
       "39995         2019.0  1.929578e+09   2019-07-05              20190705   \n",
       "39996         2019.0  1.929395e+09   2019-05-30              20190529   \n",
       "39997         2019.0  1.930216e+09   2019-12-05              20191204   \n",
       "39998         2019.0  1.929028e+09   2019-03-27              20190326   \n",
       "39999         2019.0  1.928644e+09   2019-01-17              20190118   \n",
       "\n",
       "       document_create_date.1  due_in_date invoice_currency document type  \\\n",
       "0                    20191206   20191221.0              USD            RV   \n",
       "1                    20200211   20200226.0              USD            RV   \n",
       "2                    20190107   20190122.0              USD            RV   \n",
       "3                    20190606   20190617.0              CAD            RV   \n",
       "4                    20190619   20190709.0              USD            RV   \n",
       "...                       ...          ...              ...           ...   \n",
       "39995                20190705   20190808.0              USD            RV   \n",
       "39996                20190530   20190614.0              USD            RV   \n",
       "39997                20191205   20191220.0              USD            RV   \n",
       "39998                20190327   20190531.0              USD            RV   \n",
       "39999                20190117   20190201.0              USD            RV   \n",
       "\n",
       "       posting_id  area_business  total_open_amount  baseline_create_date  \\\n",
       "0             1.0            NaN           16508.55            20191206.0   \n",
       "1             1.0            NaN           49294.01            20200211.0   \n",
       "2             1.0            NaN            4443.64            20190107.0   \n",
       "3             1.0            NaN          233272.42            20190607.0   \n",
       "4             1.0            NaN             412.08            20190616.0   \n",
       "...           ...            ...                ...                   ...   \n",
       "39995         1.0            NaN            3607.05            20190705.0   \n",
       "39996         1.0            NaN            7255.32            20190530.0   \n",
       "39997         1.0            NaN           44276.86            20191205.0   \n",
       "39998         1.0            NaN            5012.06            20190327.0   \n",
       "39999         1.0            NaN            7918.97            20190117.0   \n",
       "\n",
       "      cust_payment_terms    invoice_id  isOpen  \n",
       "0                   NAH4  1.930220e+09       0  \n",
       "1                   NAA8  1.930512e+09       0  \n",
       "2                   NAC6  1.928578e+09       0  \n",
       "3                   CA10  2.960554e+09       0  \n",
       "4                   NAM4  1.929515e+09       0  \n",
       "...                  ...           ...     ...  \n",
       "39995               NAAW  1.929578e+09       0  \n",
       "39996               NAH4  1.929395e+09       0  \n",
       "39997               NAA8  1.930216e+09       0  \n",
       "39998               NAGD  1.929028e+09       0  \n",
       "39999               NAA8  1.928644e+09       0  \n",
       "\n",
       "[40000 rows x 19 columns]"
      ]
     },
     "execution_count": 4,
     "metadata": {},
     "output_type": "execute_result"
    }
   ],
   "source": [
    "# Spliting the given data in train and test\n",
    "var  = data[\"clear_date\"].isnull()\n",
    "print(np.unique(var,return_counts=True))\n",
    "test = data[var]\n",
    "test = test.reset_index(drop=True)\n",
    "test\n",
    "train = data[~var]\n",
    "train = train.reset_index(drop=True)\n",
    "train"
   ]
  },
  {
   "cell_type": "markdown",
   "id": "9c386bda",
   "metadata": {
    "id": "9c386bda"
   },
   "source": [
    "## Preprocessing  the data\n"
   ]
  },
  {
   "cell_type": "markdown",
   "id": "c68edf33",
   "metadata": {
    "id": "c68edf33"
   },
   "source": [
    "#### Checking for constant columns and duplicates if any "
   ]
  },
  {
   "cell_type": "code",
   "execution_count": 5,
   "id": "63b19b8f",
   "metadata": {
    "id": "63b19b8f",
    "outputId": "9b139885-2dc6-462d-e519-1b280c45a986"
   },
   "outputs": [
    {
     "name": "stdout",
     "output_type": "stream",
     "text": [
      "['posting_id', 'area_business', 'isOpen']\n",
      "       posting_id  area_business  isOpen\n",
      "0             1.0            NaN       0\n",
      "1             1.0            NaN       0\n",
      "2             1.0            NaN       0\n",
      "3             1.0            NaN       0\n",
      "4             1.0            NaN       0\n",
      "...           ...            ...     ...\n",
      "39995         1.0            NaN       0\n",
      "39996         1.0            NaN       0\n",
      "39997         1.0            NaN       0\n",
      "39998         1.0            NaN       0\n",
      "39999         1.0            NaN       0\n",
      "\n",
      "[40000 rows x 3 columns]\n",
      "<class 'pandas.core.frame.DataFrame'>\n",
      "RangeIndex: 40000 entries, 0 to 39999\n",
      "Data columns (total 16 columns):\n",
      " #   Column                  Non-Null Count  Dtype  \n",
      "---  ------                  --------------  -----  \n",
      " 0   business_code           40000 non-null  object \n",
      " 1   cust_number             40000 non-null  object \n",
      " 2   name_customer           40000 non-null  object \n",
      " 3   clear_date              40000 non-null  object \n",
      " 4   buisness_year           40000 non-null  float64\n",
      " 5   doc_id                  40000 non-null  float64\n",
      " 6   posting_date            40000 non-null  object \n",
      " 7   document_create_date    40000 non-null  int64  \n",
      " 8   document_create_date.1  40000 non-null  int64  \n",
      " 9   due_in_date             40000 non-null  float64\n",
      " 10  invoice_currency        40000 non-null  object \n",
      " 11  document type           40000 non-null  object \n",
      " 12  total_open_amount       40000 non-null  float64\n",
      " 13  baseline_create_date    40000 non-null  float64\n",
      " 14  cust_payment_terms      40000 non-null  object \n",
      " 15  invoice_id              39995 non-null  float64\n",
      "dtypes: float64(6), int64(2), object(8)\n",
      "memory usage: 4.9+ MB\n",
      "None\n"
     ]
    }
   ],
   "source": [
    "# checking for constant columns \n",
    "constant_cols = [_ for _ in train.columns if train[_].nunique()<= 1]\n",
    "print(constant_cols)\n",
    "print(train[constant_cols])\n",
    "\n",
    "# eleminating the constant columns\n",
    "train.drop(columns=constant_cols,inplace=True)\n",
    "print(train.info())"
   ]
  },
  {
   "cell_type": "code",
   "execution_count": 6,
   "id": "2c418f7a",
   "metadata": {
    "id": "2c418f7a",
    "outputId": "fd95e8b0-3f5a-4760-e305-d953fea9bccd"
   },
   "outputs": [
    {
     "data": {
      "text/html": [
       "<div>\n",
       "<style scoped>\n",
       "    .dataframe tbody tr th:only-of-type {\n",
       "        vertical-align: middle;\n",
       "    }\n",
       "\n",
       "    .dataframe tbody tr th {\n",
       "        vertical-align: top;\n",
       "    }\n",
       "\n",
       "    .dataframe thead th {\n",
       "        text-align: right;\n",
       "    }\n",
       "</style>\n",
       "<table border=\"1\" class=\"dataframe\">\n",
       "  <thead>\n",
       "    <tr style=\"text-align: right;\">\n",
       "      <th></th>\n",
       "      <th>0</th>\n",
       "      <th>1</th>\n",
       "      <th>2</th>\n",
       "      <th>3</th>\n",
       "      <th>4</th>\n",
       "      <th>5</th>\n",
       "      <th>6</th>\n",
       "      <th>7</th>\n",
       "      <th>8</th>\n",
       "      <th>9</th>\n",
       "      <th>...</th>\n",
       "      <th>39990</th>\n",
       "      <th>39991</th>\n",
       "      <th>39992</th>\n",
       "      <th>39993</th>\n",
       "      <th>39994</th>\n",
       "      <th>39995</th>\n",
       "      <th>39996</th>\n",
       "      <th>39997</th>\n",
       "      <th>39998</th>\n",
       "      <th>39999</th>\n",
       "    </tr>\n",
       "  </thead>\n",
       "  <tbody>\n",
       "    <tr>\n",
       "      <th>business_code</th>\n",
       "      <td>U001</td>\n",
       "      <td>U001</td>\n",
       "      <td>U001</td>\n",
       "      <td>CA02</td>\n",
       "      <td>U001</td>\n",
       "      <td>U001</td>\n",
       "      <td>CA02</td>\n",
       "      <td>U001</td>\n",
       "      <td>U001</td>\n",
       "      <td>U001</td>\n",
       "      <td>...</td>\n",
       "      <td>U001</td>\n",
       "      <td>U001</td>\n",
       "      <td>U001</td>\n",
       "      <td>U001</td>\n",
       "      <td>U013</td>\n",
       "      <td>U001</td>\n",
       "      <td>U001</td>\n",
       "      <td>U001</td>\n",
       "      <td>U001</td>\n",
       "      <td>U001</td>\n",
       "    </tr>\n",
       "    <tr>\n",
       "      <th>cust_number</th>\n",
       "      <td>0200769623</td>\n",
       "      <td>0200780383</td>\n",
       "      <td>0200762301</td>\n",
       "      <td>0140104440</td>\n",
       "      <td>0200416837</td>\n",
       "      <td>0200794332</td>\n",
       "      <td>0140104429</td>\n",
       "      <td>200794332</td>\n",
       "      <td>0200769623</td>\n",
       "      <td>0200769623</td>\n",
       "      <td>...</td>\n",
       "      <td>0200748335</td>\n",
       "      <td>0200769623</td>\n",
       "      <td>0200750051</td>\n",
       "      <td>0200759878</td>\n",
       "      <td>0100009932</td>\n",
       "      <td>0200705742</td>\n",
       "      <td>0200769623</td>\n",
       "      <td>0200749225</td>\n",
       "      <td>0200762301</td>\n",
       "      <td>0200777735</td>\n",
       "    </tr>\n",
       "    <tr>\n",
       "      <th>name_customer</th>\n",
       "      <td>WAL-MAR foundation</td>\n",
       "      <td>MEIJ llc</td>\n",
       "      <td>C&amp;S WH in</td>\n",
       "      <td>SO systems</td>\n",
       "      <td>DEC systems</td>\n",
       "      <td>COST in</td>\n",
       "      <td>COSTCO llc</td>\n",
       "      <td>COST co</td>\n",
       "      <td>WAL-MAR us</td>\n",
       "      <td>WAL-MAR in</td>\n",
       "      <td>...</td>\n",
       "      <td>FO corp</td>\n",
       "      <td>WAL-MAR</td>\n",
       "      <td>ALBER systems</td>\n",
       "      <td>SA</td>\n",
       "      <td>SYSCO IN</td>\n",
       "      <td>DOT corporation</td>\n",
       "      <td>WAL-MAR corporation</td>\n",
       "      <td>SUPER  in</td>\n",
       "      <td>C&amp;S WH associates</td>\n",
       "      <td>NASH</td>\n",
       "    </tr>\n",
       "    <tr>\n",
       "      <th>clear_date</th>\n",
       "      <td>2019-12-17 00:00:00</td>\n",
       "      <td>2020-02-28 00:00:00</td>\n",
       "      <td>2019-01-23 00:00:00</td>\n",
       "      <td>2019-06-20 00:00:00</td>\n",
       "      <td>2019-07-01 00:00:00</td>\n",
       "      <td>2019-08-13 00:00:00</td>\n",
       "      <td>2019-10-31 00:00:00</td>\n",
       "      <td>2019-08-26 00:00:00</td>\n",
       "      <td>2019-03-27 00:00:00</td>\n",
       "      <td>2019-08-27 00:00:00</td>\n",
       "      <td>...</td>\n",
       "      <td>2019-08-10 00:00:00</td>\n",
       "      <td>2019-11-12 00:00:00</td>\n",
       "      <td>2019-09-23 00:00:00</td>\n",
       "      <td>2019-11-25 00:00:00</td>\n",
       "      <td>2019-03-13 00:00:00</td>\n",
       "      <td>2019-07-22 00:00:00</td>\n",
       "      <td>2019-06-10 00:00:00</td>\n",
       "      <td>2019-12-20 00:00:00</td>\n",
       "      <td>2019-05-31 00:00:00</td>\n",
       "      <td>2019-02-01 00:00:00</td>\n",
       "    </tr>\n",
       "    <tr>\n",
       "      <th>buisness_year</th>\n",
       "      <td>2019.0</td>\n",
       "      <td>2020.0</td>\n",
       "      <td>2019.0</td>\n",
       "      <td>2019.0</td>\n",
       "      <td>2019.0</td>\n",
       "      <td>2019.0</td>\n",
       "      <td>2019.0</td>\n",
       "      <td>2019.0</td>\n",
       "      <td>2019.0</td>\n",
       "      <td>2019.0</td>\n",
       "      <td>...</td>\n",
       "      <td>2019.0</td>\n",
       "      <td>2019.0</td>\n",
       "      <td>2019.0</td>\n",
       "      <td>2019.0</td>\n",
       "      <td>2019.0</td>\n",
       "      <td>2019.0</td>\n",
       "      <td>2019.0</td>\n",
       "      <td>2019.0</td>\n",
       "      <td>2019.0</td>\n",
       "      <td>2019.0</td>\n",
       "    </tr>\n",
       "    <tr>\n",
       "      <th>doc_id</th>\n",
       "      <td>1930220453.0</td>\n",
       "      <td>1930512438.0</td>\n",
       "      <td>1928578243.0</td>\n",
       "      <td>2960553503.0</td>\n",
       "      <td>1929514951.0</td>\n",
       "      <td>1929662057.0</td>\n",
       "      <td>2960585765.0</td>\n",
       "      <td>1929723721.0</td>\n",
       "      <td>1928979202.0</td>\n",
       "      <td>1929752978.0</td>\n",
       "      <td>...</td>\n",
       "      <td>1929655492.0</td>\n",
       "      <td>1930051898.0</td>\n",
       "      <td>1929837600.0</td>\n",
       "      <td>1930022079.0</td>\n",
       "      <td>1991822328.0</td>\n",
       "      <td>1929578251.0</td>\n",
       "      <td>1929395416.0</td>\n",
       "      <td>1930215705.0</td>\n",
       "      <td>1929028348.0</td>\n",
       "      <td>1928644431.0</td>\n",
       "    </tr>\n",
       "    <tr>\n",
       "      <th>posting_date</th>\n",
       "      <td>2019-12-06</td>\n",
       "      <td>2020-02-11</td>\n",
       "      <td>2019-01-07</td>\n",
       "      <td>2019-06-06</td>\n",
       "      <td>2019-06-19</td>\n",
       "      <td>2019-07-29</td>\n",
       "      <td>2019-10-11</td>\n",
       "      <td>2019-08-09</td>\n",
       "      <td>2019-03-17</td>\n",
       "      <td>2019-08-16</td>\n",
       "      <td>...</td>\n",
       "      <td>2019-07-24</td>\n",
       "      <td>2019-10-25</td>\n",
       "      <td>2019-09-06</td>\n",
       "      <td>2019-10-19</td>\n",
       "      <td>2019-02-09</td>\n",
       "      <td>2019-07-05</td>\n",
       "      <td>2019-05-30</td>\n",
       "      <td>2019-12-05</td>\n",
       "      <td>2019-03-27</td>\n",
       "      <td>2019-01-17</td>\n",
       "    </tr>\n",
       "    <tr>\n",
       "      <th>document_create_date</th>\n",
       "      <td>20191205</td>\n",
       "      <td>20200211</td>\n",
       "      <td>20190105</td>\n",
       "      <td>20190606</td>\n",
       "      <td>20190619</td>\n",
       "      <td>20190726</td>\n",
       "      <td>20191011</td>\n",
       "      <td>20190808</td>\n",
       "      <td>20190316</td>\n",
       "      <td>20190816</td>\n",
       "      <td>...</td>\n",
       "      <td>20190724</td>\n",
       "      <td>20191025</td>\n",
       "      <td>20190906</td>\n",
       "      <td>20191019</td>\n",
       "      <td>20190206</td>\n",
       "      <td>20190705</td>\n",
       "      <td>20190529</td>\n",
       "      <td>20191204</td>\n",
       "      <td>20190326</td>\n",
       "      <td>20190118</td>\n",
       "    </tr>\n",
       "    <tr>\n",
       "      <th>document_create_date.1</th>\n",
       "      <td>20191206</td>\n",
       "      <td>20200211</td>\n",
       "      <td>20190107</td>\n",
       "      <td>20190606</td>\n",
       "      <td>20190619</td>\n",
       "      <td>20190729</td>\n",
       "      <td>20191011</td>\n",
       "      <td>20190809</td>\n",
       "      <td>20190317</td>\n",
       "      <td>20190816</td>\n",
       "      <td>...</td>\n",
       "      <td>20190724</td>\n",
       "      <td>20191025</td>\n",
       "      <td>20190906</td>\n",
       "      <td>20191019</td>\n",
       "      <td>20190209</td>\n",
       "      <td>20190705</td>\n",
       "      <td>20190530</td>\n",
       "      <td>20191205</td>\n",
       "      <td>20190327</td>\n",
       "      <td>20190117</td>\n",
       "    </tr>\n",
       "    <tr>\n",
       "      <th>due_in_date</th>\n",
       "      <td>20191221.0</td>\n",
       "      <td>20200226.0</td>\n",
       "      <td>20190122.0</td>\n",
       "      <td>20190617.0</td>\n",
       "      <td>20190709.0</td>\n",
       "      <td>20190813.0</td>\n",
       "      <td>20191025.0</td>\n",
       "      <td>20190824.0</td>\n",
       "      <td>20190401.0</td>\n",
       "      <td>20190831.0</td>\n",
       "      <td>...</td>\n",
       "      <td>20190813.0</td>\n",
       "      <td>20191109.0</td>\n",
       "      <td>20190921.0</td>\n",
       "      <td>20191203.0</td>\n",
       "      <td>20190311.0</td>\n",
       "      <td>20190808.0</td>\n",
       "      <td>20190614.0</td>\n",
       "      <td>20191220.0</td>\n",
       "      <td>20190531.0</td>\n",
       "      <td>20190201.0</td>\n",
       "    </tr>\n",
       "    <tr>\n",
       "      <th>invoice_currency</th>\n",
       "      <td>USD</td>\n",
       "      <td>USD</td>\n",
       "      <td>USD</td>\n",
       "      <td>CAD</td>\n",
       "      <td>USD</td>\n",
       "      <td>USD</td>\n",
       "      <td>CAD</td>\n",
       "      <td>USD</td>\n",
       "      <td>USD</td>\n",
       "      <td>USD</td>\n",
       "      <td>...</td>\n",
       "      <td>USD</td>\n",
       "      <td>USD</td>\n",
       "      <td>USD</td>\n",
       "      <td>USD</td>\n",
       "      <td>USD</td>\n",
       "      <td>USD</td>\n",
       "      <td>USD</td>\n",
       "      <td>USD</td>\n",
       "      <td>USD</td>\n",
       "      <td>USD</td>\n",
       "    </tr>\n",
       "    <tr>\n",
       "      <th>document type</th>\n",
       "      <td>RV</td>\n",
       "      <td>RV</td>\n",
       "      <td>RV</td>\n",
       "      <td>RV</td>\n",
       "      <td>RV</td>\n",
       "      <td>RV</td>\n",
       "      <td>RV</td>\n",
       "      <td>RV</td>\n",
       "      <td>RV</td>\n",
       "      <td>RV</td>\n",
       "      <td>...</td>\n",
       "      <td>RV</td>\n",
       "      <td>RV</td>\n",
       "      <td>RV</td>\n",
       "      <td>RV</td>\n",
       "      <td>RV</td>\n",
       "      <td>RV</td>\n",
       "      <td>RV</td>\n",
       "      <td>RV</td>\n",
       "      <td>RV</td>\n",
       "      <td>RV</td>\n",
       "    </tr>\n",
       "    <tr>\n",
       "      <th>total_open_amount</th>\n",
       "      <td>16508.55</td>\n",
       "      <td>49294.01</td>\n",
       "      <td>4443.64</td>\n",
       "      <td>233272.42</td>\n",
       "      <td>412.08</td>\n",
       "      <td>20557.14</td>\n",
       "      <td>21328.85</td>\n",
       "      <td>15284.38</td>\n",
       "      <td>11423.13</td>\n",
       "      <td>9286.82</td>\n",
       "      <td>...</td>\n",
       "      <td>92236.37</td>\n",
       "      <td>23331.33</td>\n",
       "      <td>53213.65</td>\n",
       "      <td>80618.63</td>\n",
       "      <td>13620.0</td>\n",
       "      <td>3607.05</td>\n",
       "      <td>7255.32</td>\n",
       "      <td>44276.86</td>\n",
       "      <td>5012.06</td>\n",
       "      <td>7918.97</td>\n",
       "    </tr>\n",
       "    <tr>\n",
       "      <th>baseline_create_date</th>\n",
       "      <td>20191206.0</td>\n",
       "      <td>20200211.0</td>\n",
       "      <td>20190107.0</td>\n",
       "      <td>20190607.0</td>\n",
       "      <td>20190616.0</td>\n",
       "      <td>20190729.0</td>\n",
       "      <td>20191015.0</td>\n",
       "      <td>20190809.0</td>\n",
       "      <td>20190317.0</td>\n",
       "      <td>20190816.0</td>\n",
       "      <td>...</td>\n",
       "      <td>20190724.0</td>\n",
       "      <td>20191025.0</td>\n",
       "      <td>20190906.0</td>\n",
       "      <td>20191019.0</td>\n",
       "      <td>20190209.0</td>\n",
       "      <td>20190705.0</td>\n",
       "      <td>20190530.0</td>\n",
       "      <td>20191205.0</td>\n",
       "      <td>20190327.0</td>\n",
       "      <td>20190117.0</td>\n",
       "    </tr>\n",
       "    <tr>\n",
       "      <th>cust_payment_terms</th>\n",
       "      <td>NAH4</td>\n",
       "      <td>NAA8</td>\n",
       "      <td>NAC6</td>\n",
       "      <td>CA10</td>\n",
       "      <td>NAM4</td>\n",
       "      <td>NAAX</td>\n",
       "      <td>CA10</td>\n",
       "      <td>NAAX</td>\n",
       "      <td>NAH4</td>\n",
       "      <td>NAH4</td>\n",
       "      <td>...</td>\n",
       "      <td>NAD1</td>\n",
       "      <td>NAH4</td>\n",
       "      <td>NAA8</td>\n",
       "      <td>NAWP</td>\n",
       "      <td>NAVE</td>\n",
       "      <td>NAAW</td>\n",
       "      <td>NAH4</td>\n",
       "      <td>NAA8</td>\n",
       "      <td>NAGD</td>\n",
       "      <td>NAA8</td>\n",
       "    </tr>\n",
       "    <tr>\n",
       "      <th>invoice_id</th>\n",
       "      <td>1930220453.0</td>\n",
       "      <td>1930512438.0</td>\n",
       "      <td>1928578243.0</td>\n",
       "      <td>2960553503.0</td>\n",
       "      <td>1929514951.0</td>\n",
       "      <td>1929662057.0</td>\n",
       "      <td>2960585765.0</td>\n",
       "      <td>1929723721.0</td>\n",
       "      <td>1928979202.0</td>\n",
       "      <td>1929752978.0</td>\n",
       "      <td>...</td>\n",
       "      <td>1929655492.0</td>\n",
       "      <td>1930051898.0</td>\n",
       "      <td>1929837600.0</td>\n",
       "      <td>1930022079.0</td>\n",
       "      <td>1991822328.0</td>\n",
       "      <td>1929578251.0</td>\n",
       "      <td>1929395416.0</td>\n",
       "      <td>1930215705.0</td>\n",
       "      <td>1929028348.0</td>\n",
       "      <td>1928644431.0</td>\n",
       "    </tr>\n",
       "  </tbody>\n",
       "</table>\n",
       "<p>16 rows × 40000 columns</p>\n",
       "</div>"
      ],
      "text/plain": [
       "                                      0                    1      \\\n",
       "business_code                          U001                 U001   \n",
       "cust_number                      0200769623           0200780383   \n",
       "name_customer            WAL-MAR foundation             MEIJ llc   \n",
       "clear_date              2019-12-17 00:00:00  2020-02-28 00:00:00   \n",
       "buisness_year                        2019.0               2020.0   \n",
       "doc_id                         1930220453.0         1930512438.0   \n",
       "posting_date                     2019-12-06           2020-02-11   \n",
       "document_create_date               20191205             20200211   \n",
       "document_create_date.1             20191206             20200211   \n",
       "due_in_date                      20191221.0           20200226.0   \n",
       "invoice_currency                        USD                  USD   \n",
       "document type                            RV                   RV   \n",
       "total_open_amount                  16508.55             49294.01   \n",
       "baseline_create_date             20191206.0           20200211.0   \n",
       "cust_payment_terms                     NAH4                 NAA8   \n",
       "invoice_id                     1930220453.0         1930512438.0   \n",
       "\n",
       "                                      2                    3      \\\n",
       "business_code                          U001                 CA02   \n",
       "cust_number                      0200762301           0140104440   \n",
       "name_customer                     C&S WH in           SO systems   \n",
       "clear_date              2019-01-23 00:00:00  2019-06-20 00:00:00   \n",
       "buisness_year                        2019.0               2019.0   \n",
       "doc_id                         1928578243.0         2960553503.0   \n",
       "posting_date                     2019-01-07           2019-06-06   \n",
       "document_create_date               20190105             20190606   \n",
       "document_create_date.1             20190107             20190606   \n",
       "due_in_date                      20190122.0           20190617.0   \n",
       "invoice_currency                        USD                  CAD   \n",
       "document type                            RV                   RV   \n",
       "total_open_amount                   4443.64            233272.42   \n",
       "baseline_create_date             20190107.0           20190607.0   \n",
       "cust_payment_terms                     NAC6                 CA10   \n",
       "invoice_id                     1928578243.0         2960553503.0   \n",
       "\n",
       "                                      4                    5      \\\n",
       "business_code                          U001                 U001   \n",
       "cust_number                      0200416837           0200794332   \n",
       "name_customer                   DEC systems              COST in   \n",
       "clear_date              2019-07-01 00:00:00  2019-08-13 00:00:00   \n",
       "buisness_year                        2019.0               2019.0   \n",
       "doc_id                         1929514951.0         1929662057.0   \n",
       "posting_date                     2019-06-19           2019-07-29   \n",
       "document_create_date               20190619             20190726   \n",
       "document_create_date.1             20190619             20190729   \n",
       "due_in_date                      20190709.0           20190813.0   \n",
       "invoice_currency                        USD                  USD   \n",
       "document type                            RV                   RV   \n",
       "total_open_amount                    412.08             20557.14   \n",
       "baseline_create_date             20190616.0           20190729.0   \n",
       "cust_payment_terms                     NAM4                 NAAX   \n",
       "invoice_id                     1929514951.0         1929662057.0   \n",
       "\n",
       "                                      6                    7      \\\n",
       "business_code                          CA02                 U001   \n",
       "cust_number                      0140104429            200794332   \n",
       "name_customer                    COSTCO llc              COST co   \n",
       "clear_date              2019-10-31 00:00:00  2019-08-26 00:00:00   \n",
       "buisness_year                        2019.0               2019.0   \n",
       "doc_id                         2960585765.0         1929723721.0   \n",
       "posting_date                     2019-10-11           2019-08-09   \n",
       "document_create_date               20191011             20190808   \n",
       "document_create_date.1             20191011             20190809   \n",
       "due_in_date                      20191025.0           20190824.0   \n",
       "invoice_currency                        CAD                  USD   \n",
       "document type                            RV                   RV   \n",
       "total_open_amount                  21328.85             15284.38   \n",
       "baseline_create_date             20191015.0           20190809.0   \n",
       "cust_payment_terms                     CA10                 NAAX   \n",
       "invoice_id                     2960585765.0         1929723721.0   \n",
       "\n",
       "                                      8                    9      ...  \\\n",
       "business_code                          U001                 U001  ...   \n",
       "cust_number                      0200769623           0200769623  ...   \n",
       "name_customer                    WAL-MAR us           WAL-MAR in  ...   \n",
       "clear_date              2019-03-27 00:00:00  2019-08-27 00:00:00  ...   \n",
       "buisness_year                        2019.0               2019.0  ...   \n",
       "doc_id                         1928979202.0         1929752978.0  ...   \n",
       "posting_date                     2019-03-17           2019-08-16  ...   \n",
       "document_create_date               20190316             20190816  ...   \n",
       "document_create_date.1             20190317             20190816  ...   \n",
       "due_in_date                      20190401.0           20190831.0  ...   \n",
       "invoice_currency                        USD                  USD  ...   \n",
       "document type                            RV                   RV  ...   \n",
       "total_open_amount                  11423.13              9286.82  ...   \n",
       "baseline_create_date             20190317.0           20190816.0  ...   \n",
       "cust_payment_terms                     NAH4                 NAH4  ...   \n",
       "invoice_id                     1928979202.0         1929752978.0  ...   \n",
       "\n",
       "                                      39990                39991  \\\n",
       "business_code                          U001                 U001   \n",
       "cust_number                      0200748335           0200769623   \n",
       "name_customer                       FO corp             WAL-MAR    \n",
       "clear_date              2019-08-10 00:00:00  2019-11-12 00:00:00   \n",
       "buisness_year                        2019.0               2019.0   \n",
       "doc_id                         1929655492.0         1930051898.0   \n",
       "posting_date                     2019-07-24           2019-10-25   \n",
       "document_create_date               20190724             20191025   \n",
       "document_create_date.1             20190724             20191025   \n",
       "due_in_date                      20190813.0           20191109.0   \n",
       "invoice_currency                        USD                  USD   \n",
       "document type                            RV                   RV   \n",
       "total_open_amount                  92236.37             23331.33   \n",
       "baseline_create_date             20190724.0           20191025.0   \n",
       "cust_payment_terms                     NAD1                 NAH4   \n",
       "invoice_id                     1929655492.0         1930051898.0   \n",
       "\n",
       "                                      39992                39993  \\\n",
       "business_code                          U001                 U001   \n",
       "cust_number                      0200750051           0200759878   \n",
       "name_customer                 ALBER systems                  SA    \n",
       "clear_date              2019-09-23 00:00:00  2019-11-25 00:00:00   \n",
       "buisness_year                        2019.0               2019.0   \n",
       "doc_id                         1929837600.0         1930022079.0   \n",
       "posting_date                     2019-09-06           2019-10-19   \n",
       "document_create_date               20190906             20191019   \n",
       "document_create_date.1             20190906             20191019   \n",
       "due_in_date                      20190921.0           20191203.0   \n",
       "invoice_currency                        USD                  USD   \n",
       "document type                            RV                   RV   \n",
       "total_open_amount                  53213.65             80618.63   \n",
       "baseline_create_date             20190906.0           20191019.0   \n",
       "cust_payment_terms                     NAA8                 NAWP   \n",
       "invoice_id                     1929837600.0         1930022079.0   \n",
       "\n",
       "                                      39994                39995  \\\n",
       "business_code                          U013                 U001   \n",
       "cust_number                      0100009932           0200705742   \n",
       "name_customer                     SYSCO IN       DOT corporation   \n",
       "clear_date              2019-03-13 00:00:00  2019-07-22 00:00:00   \n",
       "buisness_year                        2019.0               2019.0   \n",
       "doc_id                         1991822328.0         1929578251.0   \n",
       "posting_date                     2019-02-09           2019-07-05   \n",
       "document_create_date               20190206             20190705   \n",
       "document_create_date.1             20190209             20190705   \n",
       "due_in_date                      20190311.0           20190808.0   \n",
       "invoice_currency                        USD                  USD   \n",
       "document type                            RV                   RV   \n",
       "total_open_amount                   13620.0              3607.05   \n",
       "baseline_create_date             20190209.0           20190705.0   \n",
       "cust_payment_terms                     NAVE                 NAAW   \n",
       "invoice_id                     1991822328.0         1929578251.0   \n",
       "\n",
       "                                      39996                39997  \\\n",
       "business_code                          U001                 U001   \n",
       "cust_number                      0200769623           0200749225   \n",
       "name_customer           WAL-MAR corporation            SUPER  in   \n",
       "clear_date              2019-06-10 00:00:00  2019-12-20 00:00:00   \n",
       "buisness_year                        2019.0               2019.0   \n",
       "doc_id                         1929395416.0         1930215705.0   \n",
       "posting_date                     2019-05-30           2019-12-05   \n",
       "document_create_date               20190529             20191204   \n",
       "document_create_date.1             20190530             20191205   \n",
       "due_in_date                      20190614.0           20191220.0   \n",
       "invoice_currency                        USD                  USD   \n",
       "document type                            RV                   RV   \n",
       "total_open_amount                   7255.32             44276.86   \n",
       "baseline_create_date             20190530.0           20191205.0   \n",
       "cust_payment_terms                     NAH4                 NAA8   \n",
       "invoice_id                     1929395416.0         1930215705.0   \n",
       "\n",
       "                                      39998                39999  \n",
       "business_code                          U001                 U001  \n",
       "cust_number                      0200762301           0200777735  \n",
       "name_customer             C&S WH associates               NASH    \n",
       "clear_date              2019-05-31 00:00:00  2019-02-01 00:00:00  \n",
       "buisness_year                        2019.0               2019.0  \n",
       "doc_id                         1929028348.0         1928644431.0  \n",
       "posting_date                     2019-03-27           2019-01-17  \n",
       "document_create_date               20190326             20190118  \n",
       "document_create_date.1             20190327             20190117  \n",
       "due_in_date                      20190531.0           20190201.0  \n",
       "invoice_currency                        USD                  USD  \n",
       "document type                            RV                   RV  \n",
       "total_open_amount                   5012.06              7918.97  \n",
       "baseline_create_date             20190327.0           20190117.0  \n",
       "cust_payment_terms                     NAGD                 NAA8  \n",
       "invoice_id                     1929028348.0         1928644431.0  \n",
       "\n",
       "[16 rows x 40000 columns]"
      ]
     },
     "execution_count": 6,
     "metadata": {},
     "output_type": "execute_result"
    }
   ],
   "source": [
    "# checking for duplicate columns \n",
    "train_transpose = train.T\n",
    "train_transpose.drop_duplicates(keep=\"first\")"
   ]
  },
  {
   "cell_type": "code",
   "execution_count": 7,
   "id": "d34563f3",
   "metadata": {
    "id": "d34563f3",
    "outputId": "d136f105-0313-427f-ed59-30beda1e7043"
   },
   "outputs": [
    {
     "name": "stdout",
     "output_type": "stream",
     "text": [
      "(array([False,  True]), array([    5, 39995], dtype=int64))\n",
      "5\n"
     ]
    }
   ],
   "source": [
    "## checking further for duplicates column\n",
    "# invoice_id = Unique number assigned when a seller creates an Invoice.\n",
    "# doc_id = It is also an unique identifier of an invoice is a primary key for acct_doc_header table\n",
    "# since both columns means similar thus checking if it is duplicate or not\n",
    "\n",
    "compare = np.array(np.where(train[\"invoice_id\"] == train[\"doc_id\"] , True, False))\n",
    "print(np.unique(compare,return_counts=True))\n",
    "print(train.invoice_id.isnull().sum())\n",
    "\n"
   ]
  },
  {
   "cell_type": "markdown",
   "id": "cbd08978",
   "metadata": {
    "id": "cbd08978"
   },
   "source": [
    "#### By this we can say that invoice_id  is duplicate of doc_id\n",
    "###### And dropping both since id dont impart any information to model "
   ]
  },
  {
   "cell_type": "code",
   "execution_count": 8,
   "id": "415e1b68",
   "metadata": {
    "id": "415e1b68"
   },
   "outputs": [],
   "source": [
    "# thus invoice_id is duplicate of doc_id, hence droping\n",
    "train.drop(columns=[\"invoice_id\",\"doc_id\"],axis=\"columns\",inplace = True)"
   ]
  },
  {
   "cell_type": "code",
   "execution_count": 9,
   "id": "c5248bae",
   "metadata": {
    "id": "c5248bae"
   },
   "outputs": [],
   "source": [
    "# checking for duplicate rows \n",
    "train.duplicated().sum()\n",
    "train = train.drop_duplicates(keep='first')"
   ]
  },
  {
   "cell_type": "markdown",
   "id": "c0a0811f",
   "metadata": {
    "id": "c0a0811f"
   },
   "source": [
    "#### Converting the data type "
   ]
  },
  {
   "cell_type": "code",
   "execution_count": 10,
   "id": "6f6064a0",
   "metadata": {
    "id": "6f6064a0",
    "outputId": "f0b00677-4007-457b-c6d6-be42ff98359f"
   },
   "outputs": [
    {
     "name": "stdout",
     "output_type": "stream",
     "text": [
      "<class 'pandas.core.frame.DataFrame'>\n",
      "Int64Index: 39137 entries, 0 to 39999\n",
      "Data columns (total 14 columns):\n",
      " #   Column                  Non-Null Count  Dtype  \n",
      "---  ------                  --------------  -----  \n",
      " 0   business_code           39137 non-null  object \n",
      " 1   cust_number             39137 non-null  object \n",
      " 2   name_customer           39137 non-null  object \n",
      " 3   clear_date              39137 non-null  object \n",
      " 4   buisness_year           39137 non-null  int64  \n",
      " 5   posting_date            39137 non-null  object \n",
      " 6   document_create_date    39137 non-null  int64  \n",
      " 7   document_create_date.1  39137 non-null  int64  \n",
      " 8   due_in_date             39137 non-null  float64\n",
      " 9   invoice_currency        39137 non-null  object \n",
      " 10  document type           39137 non-null  object \n",
      " 11  total_open_amount       39137 non-null  float64\n",
      " 12  baseline_create_date    39137 non-null  float64\n",
      " 13  cust_payment_terms      39137 non-null  object \n",
      "dtypes: float64(3), int64(3), object(8)\n",
      "memory usage: 4.5+ MB\n"
     ]
    },
    {
     "data": {
      "text/html": [
       "<div>\n",
       "<style scoped>\n",
       "    .dataframe tbody tr th:only-of-type {\n",
       "        vertical-align: middle;\n",
       "    }\n",
       "\n",
       "    .dataframe tbody tr th {\n",
       "        vertical-align: top;\n",
       "    }\n",
       "\n",
       "    .dataframe thead th {\n",
       "        text-align: right;\n",
       "    }\n",
       "</style>\n",
       "<table border=\"1\" class=\"dataframe\">\n",
       "  <thead>\n",
       "    <tr style=\"text-align: right;\">\n",
       "      <th></th>\n",
       "      <th>business_code</th>\n",
       "      <th>cust_number</th>\n",
       "      <th>name_customer</th>\n",
       "      <th>clear_date</th>\n",
       "      <th>buisness_year</th>\n",
       "      <th>posting_date</th>\n",
       "      <th>document_create_date</th>\n",
       "      <th>document_create_date.1</th>\n",
       "      <th>due_in_date</th>\n",
       "      <th>invoice_currency</th>\n",
       "      <th>document type</th>\n",
       "      <th>total_open_amount</th>\n",
       "      <th>baseline_create_date</th>\n",
       "      <th>cust_payment_terms</th>\n",
       "    </tr>\n",
       "  </thead>\n",
       "  <tbody>\n",
       "    <tr>\n",
       "      <th>0</th>\n",
       "      <td>U001</td>\n",
       "      <td>0200769623</td>\n",
       "      <td>WAL-MAR foundation</td>\n",
       "      <td>2019-12-17 00:00:00</td>\n",
       "      <td>2019</td>\n",
       "      <td>2019-12-06</td>\n",
       "      <td>20191205</td>\n",
       "      <td>20191206</td>\n",
       "      <td>20191221.0</td>\n",
       "      <td>USD</td>\n",
       "      <td>RV</td>\n",
       "      <td>16508.55</td>\n",
       "      <td>20191206.0</td>\n",
       "      <td>NAH4</td>\n",
       "    </tr>\n",
       "    <tr>\n",
       "      <th>1</th>\n",
       "      <td>U001</td>\n",
       "      <td>0200780383</td>\n",
       "      <td>MEIJ llc</td>\n",
       "      <td>2020-02-28 00:00:00</td>\n",
       "      <td>2020</td>\n",
       "      <td>2020-02-11</td>\n",
       "      <td>20200211</td>\n",
       "      <td>20200211</td>\n",
       "      <td>20200226.0</td>\n",
       "      <td>USD</td>\n",
       "      <td>RV</td>\n",
       "      <td>49294.01</td>\n",
       "      <td>20200211.0</td>\n",
       "      <td>NAA8</td>\n",
       "    </tr>\n",
       "    <tr>\n",
       "      <th>2</th>\n",
       "      <td>U001</td>\n",
       "      <td>0200762301</td>\n",
       "      <td>C&amp;S WH in</td>\n",
       "      <td>2019-01-23 00:00:00</td>\n",
       "      <td>2019</td>\n",
       "      <td>2019-01-07</td>\n",
       "      <td>20190105</td>\n",
       "      <td>20190107</td>\n",
       "      <td>20190122.0</td>\n",
       "      <td>USD</td>\n",
       "      <td>RV</td>\n",
       "      <td>4443.64</td>\n",
       "      <td>20190107.0</td>\n",
       "      <td>NAC6</td>\n",
       "    </tr>\n",
       "    <tr>\n",
       "      <th>3</th>\n",
       "      <td>CA02</td>\n",
       "      <td>0140104440</td>\n",
       "      <td>SO systems</td>\n",
       "      <td>2019-06-20 00:00:00</td>\n",
       "      <td>2019</td>\n",
       "      <td>2019-06-06</td>\n",
       "      <td>20190606</td>\n",
       "      <td>20190606</td>\n",
       "      <td>20190617.0</td>\n",
       "      <td>CAD</td>\n",
       "      <td>RV</td>\n",
       "      <td>233272.42</td>\n",
       "      <td>20190607.0</td>\n",
       "      <td>CA10</td>\n",
       "    </tr>\n",
       "    <tr>\n",
       "      <th>4</th>\n",
       "      <td>U001</td>\n",
       "      <td>0200416837</td>\n",
       "      <td>DEC systems</td>\n",
       "      <td>2019-07-01 00:00:00</td>\n",
       "      <td>2019</td>\n",
       "      <td>2019-06-19</td>\n",
       "      <td>20190619</td>\n",
       "      <td>20190619</td>\n",
       "      <td>20190709.0</td>\n",
       "      <td>USD</td>\n",
       "      <td>RV</td>\n",
       "      <td>412.08</td>\n",
       "      <td>20190616.0</td>\n",
       "      <td>NAM4</td>\n",
       "    </tr>\n",
       "  </tbody>\n",
       "</table>\n",
       "</div>"
      ],
      "text/plain": [
       "  business_code cust_number       name_customer           clear_date  \\\n",
       "0          U001  0200769623  WAL-MAR foundation  2019-12-17 00:00:00   \n",
       "1          U001  0200780383            MEIJ llc  2020-02-28 00:00:00   \n",
       "2          U001  0200762301           C&S WH in  2019-01-23 00:00:00   \n",
       "3          CA02  0140104440          SO systems  2019-06-20 00:00:00   \n",
       "4          U001  0200416837         DEC systems  2019-07-01 00:00:00   \n",
       "\n",
       "   buisness_year posting_date  document_create_date  document_create_date.1  \\\n",
       "0           2019   2019-12-06              20191205                20191206   \n",
       "1           2020   2020-02-11              20200211                20200211   \n",
       "2           2019   2019-01-07              20190105                20190107   \n",
       "3           2019   2019-06-06              20190606                20190606   \n",
       "4           2019   2019-06-19              20190619                20190619   \n",
       "\n",
       "   due_in_date invoice_currency document type  total_open_amount  \\\n",
       "0   20191221.0              USD            RV           16508.55   \n",
       "1   20200226.0              USD            RV           49294.01   \n",
       "2   20190122.0              USD            RV            4443.64   \n",
       "3   20190617.0              CAD            RV          233272.42   \n",
       "4   20190709.0              USD            RV             412.08   \n",
       "\n",
       "   baseline_create_date cust_payment_terms  \n",
       "0            20191206.0               NAH4  \n",
       "1            20200211.0               NAA8  \n",
       "2            20190107.0               NAC6  \n",
       "3            20190607.0               CA10  \n",
       "4            20190616.0               NAM4  "
      ]
     },
     "execution_count": 10,
     "metadata": {},
     "output_type": "execute_result"
    }
   ],
   "source": [
    "train = train.astype({\"buisness_year\" :\"int64\"})\n",
    "train.info()\n",
    "train.head()"
   ]
  },
  {
   "cell_type": "code",
   "execution_count": 11,
   "id": "4c688172",
   "metadata": {
    "id": "4c688172",
    "outputId": "b744eefe-0607-41e3-b506-909b3c826878"
   },
   "outputs": [
    {
     "data": {
      "text/html": [
       "<div>\n",
       "<style scoped>\n",
       "    .dataframe tbody tr th:only-of-type {\n",
       "        vertical-align: middle;\n",
       "    }\n",
       "\n",
       "    .dataframe tbody tr th {\n",
       "        vertical-align: top;\n",
       "    }\n",
       "\n",
       "    .dataframe thead th {\n",
       "        text-align: right;\n",
       "    }\n",
       "</style>\n",
       "<table border=\"1\" class=\"dataframe\">\n",
       "  <thead>\n",
       "    <tr style=\"text-align: right;\">\n",
       "      <th></th>\n",
       "      <th>business_code</th>\n",
       "      <th>cust_number</th>\n",
       "      <th>name_customer</th>\n",
       "      <th>clear_date</th>\n",
       "      <th>buisness_year</th>\n",
       "      <th>posting_date</th>\n",
       "      <th>document_create_date</th>\n",
       "      <th>document_create_date.1</th>\n",
       "      <th>due_in_date</th>\n",
       "      <th>invoice_currency</th>\n",
       "      <th>document type</th>\n",
       "      <th>total_open_amount</th>\n",
       "      <th>baseline_create_date</th>\n",
       "      <th>cust_payment_terms</th>\n",
       "    </tr>\n",
       "  </thead>\n",
       "  <tbody>\n",
       "    <tr>\n",
       "      <th>0</th>\n",
       "      <td>U001</td>\n",
       "      <td>0200769623</td>\n",
       "      <td>WAL-MAR foundation</td>\n",
       "      <td>2019-12-17</td>\n",
       "      <td>2019</td>\n",
       "      <td>2019-12-06</td>\n",
       "      <td>2019-12-05</td>\n",
       "      <td>2019-12-06</td>\n",
       "      <td>2019-12-21</td>\n",
       "      <td>USD</td>\n",
       "      <td>RV</td>\n",
       "      <td>16508.55</td>\n",
       "      <td>2019-12-06</td>\n",
       "      <td>NAH4</td>\n",
       "    </tr>\n",
       "    <tr>\n",
       "      <th>1</th>\n",
       "      <td>U001</td>\n",
       "      <td>0200780383</td>\n",
       "      <td>MEIJ llc</td>\n",
       "      <td>2020-02-28</td>\n",
       "      <td>2020</td>\n",
       "      <td>2020-02-11</td>\n",
       "      <td>2020-02-11</td>\n",
       "      <td>2020-02-11</td>\n",
       "      <td>2020-02-26</td>\n",
       "      <td>USD</td>\n",
       "      <td>RV</td>\n",
       "      <td>49294.01</td>\n",
       "      <td>2020-02-11</td>\n",
       "      <td>NAA8</td>\n",
       "    </tr>\n",
       "    <tr>\n",
       "      <th>2</th>\n",
       "      <td>U001</td>\n",
       "      <td>0200762301</td>\n",
       "      <td>C&amp;S WH in</td>\n",
       "      <td>2019-01-23</td>\n",
       "      <td>2019</td>\n",
       "      <td>2019-01-07</td>\n",
       "      <td>2019-01-05</td>\n",
       "      <td>2019-01-07</td>\n",
       "      <td>2019-01-22</td>\n",
       "      <td>USD</td>\n",
       "      <td>RV</td>\n",
       "      <td>4443.64</td>\n",
       "      <td>2019-01-07</td>\n",
       "      <td>NAC6</td>\n",
       "    </tr>\n",
       "    <tr>\n",
       "      <th>3</th>\n",
       "      <td>CA02</td>\n",
       "      <td>0140104440</td>\n",
       "      <td>SO systems</td>\n",
       "      <td>2019-06-20</td>\n",
       "      <td>2019</td>\n",
       "      <td>2019-06-06</td>\n",
       "      <td>2019-06-06</td>\n",
       "      <td>2019-06-06</td>\n",
       "      <td>2019-06-17</td>\n",
       "      <td>CAD</td>\n",
       "      <td>RV</td>\n",
       "      <td>233272.42</td>\n",
       "      <td>2019-06-07</td>\n",
       "      <td>CA10</td>\n",
       "    </tr>\n",
       "    <tr>\n",
       "      <th>4</th>\n",
       "      <td>U001</td>\n",
       "      <td>0200416837</td>\n",
       "      <td>DEC systems</td>\n",
       "      <td>2019-07-01</td>\n",
       "      <td>2019</td>\n",
       "      <td>2019-06-19</td>\n",
       "      <td>2019-06-19</td>\n",
       "      <td>2019-06-19</td>\n",
       "      <td>2019-07-09</td>\n",
       "      <td>USD</td>\n",
       "      <td>RV</td>\n",
       "      <td>412.08</td>\n",
       "      <td>2019-06-16</td>\n",
       "      <td>NAM4</td>\n",
       "    </tr>\n",
       "  </tbody>\n",
       "</table>\n",
       "</div>"
      ],
      "text/plain": [
       "  business_code cust_number       name_customer clear_date  buisness_year  \\\n",
       "0          U001  0200769623  WAL-MAR foundation 2019-12-17           2019   \n",
       "1          U001  0200780383            MEIJ llc 2020-02-28           2020   \n",
       "2          U001  0200762301           C&S WH in 2019-01-23           2019   \n",
       "3          CA02  0140104440          SO systems 2019-06-20           2019   \n",
       "4          U001  0200416837         DEC systems 2019-07-01           2019   \n",
       "\n",
       "  posting_date document_create_date document_create_date.1 due_in_date  \\\n",
       "0   2019-12-06           2019-12-05             2019-12-06  2019-12-21   \n",
       "1   2020-02-11           2020-02-11             2020-02-11  2020-02-26   \n",
       "2   2019-01-07           2019-01-05             2019-01-07  2019-01-22   \n",
       "3   2019-06-06           2019-06-06             2019-06-06  2019-06-17   \n",
       "4   2019-06-19           2019-06-19             2019-06-19  2019-07-09   \n",
       "\n",
       "  invoice_currency document type  total_open_amount baseline_create_date  \\\n",
       "0              USD            RV           16508.55           2019-12-06   \n",
       "1              USD            RV           49294.01           2020-02-11   \n",
       "2              USD            RV            4443.64           2019-01-07   \n",
       "3              CAD            RV          233272.42           2019-06-07   \n",
       "4              USD            RV             412.08           2019-06-16   \n",
       "\n",
       "  cust_payment_terms  \n",
       "0               NAH4  \n",
       "1               NAA8  \n",
       "2               NAC6  \n",
       "3               CA10  \n",
       "4               NAM4  "
      ]
     },
     "execution_count": 11,
     "metadata": {},
     "output_type": "execute_result"
    }
   ],
   "source": [
    "train[\"document_create_date\"]= pd.to_datetime(train[\"document_create_date\"], format='%Y%m%d')\n",
    "train[\"baseline_create_date\"]= pd.to_datetime(train[\"baseline_create_date\"], format='%Y%m%d')\n",
    "train[\"document_create_date.1\"]= pd.to_datetime(train[\"document_create_date.1\"], format='%Y%m%d')\n",
    "train[\"due_in_date\"]= pd.to_datetime(train[\"due_in_date\"],format='%Y%m%d')\n",
    "train[\"posting_date\"]= train[\"posting_date\"].str.replace(\"-\",\"\").astype(\"int\")\n",
    "train[\"posting_date\"] = pd.to_datetime(train[\"posting_date\"],format='%Y%m%d')\n",
    "train[\"clear_date\"] = pd.to_datetime(train[\"clear_date\"])\n",
    "train.head()"
   ]
  },
  {
   "cell_type": "code",
   "execution_count": 12,
   "id": "16a70b26",
   "metadata": {
    "id": "16a70b26",
    "outputId": "05bd2c1e-8346-4067-d756-df1118d12ca3"
   },
   "outputs": [
    {
     "name": "stdout",
     "output_type": "stream",
     "text": [
      "U001    35429\n",
      "CA02     3041\n",
      "U013      533\n",
      "U002      121\n",
      "U005       11\n",
      "U007        2\n",
      "Name: business_code, dtype: int64\n",
      "##################################################\n",
      "2019    33975\n",
      "2020     5162\n",
      "Name: buisness_year, dtype: int64\n",
      "##################################################\n",
      "USD    36095\n",
      "CAD     3042\n",
      "Name: invoice_currency, dtype: int64\n",
      "##################################################\n",
      "RV    39132\n",
      "X2        5\n",
      "Name: document type, dtype: int64\n",
      "##################################################\n"
     ]
    }
   ],
   "source": [
    "# unique value counts to check if any groupping is required, and sufficient info is provided through data\n",
    "# and also checking for categorial values \n",
    "for c in train.columns:\n",
    "    if train[c].nunique() <= 15:\n",
    "        print(train[c].value_counts())\n",
    "        print(\"#\"*50)"
   ]
  },
  {
   "cell_type": "markdown",
   "id": "c5f1b449",
   "metadata": {
    "id": "c5f1b449"
   },
   "source": [
    "## Creating Target column"
   ]
  },
  {
   "cell_type": "code",
   "execution_count": 13,
   "id": "2933e95f",
   "metadata": {
    "id": "2933e95f",
    "outputId": "0e1f4d56-44d6-43a7-bd0c-854165a611df"
   },
   "outputs": [
    {
     "data": {
      "text/plain": [
       "0        -4\n",
       "1         2\n",
       "2         1\n",
       "3         3\n",
       "4        -8\n",
       "         ..\n",
       "39995   -17\n",
       "39996    -4\n",
       "39997     0\n",
       "39998     0\n",
       "39999     0\n",
       "Name: delay, Length: 39137, dtype: int64"
      ]
     },
     "execution_count": 13,
     "metadata": {},
     "output_type": "execute_result"
    }
   ],
   "source": [
    "# creating target variable b4 spliting\n",
    "train[\"delay\"] = (train[\"clear_date\"] - train[\"due_in_date\"]).apply(lambda x: x.days)\n",
    "train[\"delay\"]\n"
   ]
  },
  {
   "cell_type": "markdown",
   "id": "1a0c18e2",
   "metadata": {
    "id": "1a0c18e2"
   },
   "source": [
    "## Sorting data based on posting date"
   ]
  },
  {
   "cell_type": "code",
   "execution_count": 14,
   "id": "b9a706ea",
   "metadata": {
    "id": "b9a706ea",
    "outputId": "5453fed0-da7f-4c5e-f282-d959b6cf244a"
   },
   "outputs": [
    {
     "data": {
      "text/plain": [
       "(Timestamp('2018-12-30 00:00:00'), Timestamp('2020-02-27 00:00:00'))"
      ]
     },
     "execution_count": 14,
     "metadata": {},
     "output_type": "execute_result"
    }
   ],
   "source": [
    "# sorting data based on posting date\n",
    "train[\"posting_date\"].min(),train[\"posting_date\"].max()"
   ]
  },
  {
   "cell_type": "code",
   "execution_count": 15,
   "id": "531bfeff",
   "metadata": {
    "id": "531bfeff",
    "outputId": "f90c42ac-92ab-4f76-aa4e-c6cab67405eb"
   },
   "outputs": [
    {
     "data": {
      "text/html": [
       "<div>\n",
       "<style scoped>\n",
       "    .dataframe tbody tr th:only-of-type {\n",
       "        vertical-align: middle;\n",
       "    }\n",
       "\n",
       "    .dataframe tbody tr th {\n",
       "        vertical-align: top;\n",
       "    }\n",
       "\n",
       "    .dataframe thead th {\n",
       "        text-align: right;\n",
       "    }\n",
       "</style>\n",
       "<table border=\"1\" class=\"dataframe\">\n",
       "  <thead>\n",
       "    <tr style=\"text-align: right;\">\n",
       "      <th></th>\n",
       "      <th>business_code</th>\n",
       "      <th>cust_number</th>\n",
       "      <th>name_customer</th>\n",
       "      <th>clear_date</th>\n",
       "      <th>buisness_year</th>\n",
       "      <th>posting_date</th>\n",
       "      <th>document_create_date</th>\n",
       "      <th>document_create_date.1</th>\n",
       "      <th>due_in_date</th>\n",
       "      <th>invoice_currency</th>\n",
       "      <th>document type</th>\n",
       "      <th>total_open_amount</th>\n",
       "      <th>baseline_create_date</th>\n",
       "      <th>cust_payment_terms</th>\n",
       "      <th>delay</th>\n",
       "    </tr>\n",
       "  </thead>\n",
       "  <tbody>\n",
       "    <tr>\n",
       "      <th>39360</th>\n",
       "      <td>U001</td>\n",
       "      <td>0200726979</td>\n",
       "      <td>BJ'S  in</td>\n",
       "      <td>2019-01-15</td>\n",
       "      <td>2019</td>\n",
       "      <td>2018-12-30</td>\n",
       "      <td>2018-12-29</td>\n",
       "      <td>2018-12-30</td>\n",
       "      <td>2019-01-14</td>\n",
       "      <td>USD</td>\n",
       "      <td>RV</td>\n",
       "      <td>307.37</td>\n",
       "      <td>2018-12-30</td>\n",
       "      <td>NAA8</td>\n",
       "      <td>1</td>\n",
       "    </tr>\n",
       "    <tr>\n",
       "      <th>25027</th>\n",
       "      <td>U001</td>\n",
       "      <td>0200759878</td>\n",
       "      <td>SA foundation</td>\n",
       "      <td>2019-01-15</td>\n",
       "      <td>2019</td>\n",
       "      <td>2018-12-30</td>\n",
       "      <td>2018-12-29</td>\n",
       "      <td>2018-12-30</td>\n",
       "      <td>2019-01-14</td>\n",
       "      <td>USD</td>\n",
       "      <td>RV</td>\n",
       "      <td>50099.14</td>\n",
       "      <td>2018-12-30</td>\n",
       "      <td>NAH4</td>\n",
       "      <td>1</td>\n",
       "    </tr>\n",
       "    <tr>\n",
       "      <th>39674</th>\n",
       "      <td>U013</td>\n",
       "      <td>0100024077</td>\n",
       "      <td>GLOBAL  us</td>\n",
       "      <td>2019-02-14</td>\n",
       "      <td>2019</td>\n",
       "      <td>2018-12-30</td>\n",
       "      <td>2018-12-26</td>\n",
       "      <td>2018-12-30</td>\n",
       "      <td>2019-02-13</td>\n",
       "      <td>USD</td>\n",
       "      <td>RV</td>\n",
       "      <td>11734.73</td>\n",
       "      <td>2018-12-30</td>\n",
       "      <td>NAVF</td>\n",
       "      <td>1</td>\n",
       "    </tr>\n",
       "    <tr>\n",
       "      <th>18576</th>\n",
       "      <td>U001</td>\n",
       "      <td>0200744019</td>\n",
       "      <td>TARG co</td>\n",
       "      <td>2019-01-11</td>\n",
       "      <td>2019</td>\n",
       "      <td>2018-12-30</td>\n",
       "      <td>2018-12-31</td>\n",
       "      <td>2018-12-30</td>\n",
       "      <td>2019-01-14</td>\n",
       "      <td>USD</td>\n",
       "      <td>RV</td>\n",
       "      <td>8156.46</td>\n",
       "      <td>2018-12-30</td>\n",
       "      <td>NAA8</td>\n",
       "      <td>-3</td>\n",
       "    </tr>\n",
       "    <tr>\n",
       "      <th>8802</th>\n",
       "      <td>U001</td>\n",
       "      <td>0200769623</td>\n",
       "      <td>WAL-MAR systems</td>\n",
       "      <td>2019-01-10</td>\n",
       "      <td>2019</td>\n",
       "      <td>2018-12-30</td>\n",
       "      <td>2018-12-30</td>\n",
       "      <td>2018-12-30</td>\n",
       "      <td>2019-01-14</td>\n",
       "      <td>USD</td>\n",
       "      <td>RV</td>\n",
       "      <td>42630.58</td>\n",
       "      <td>2018-12-30</td>\n",
       "      <td>NAH4</td>\n",
       "      <td>-4</td>\n",
       "    </tr>\n",
       "    <tr>\n",
       "      <th>...</th>\n",
       "      <td>...</td>\n",
       "      <td>...</td>\n",
       "      <td>...</td>\n",
       "      <td>...</td>\n",
       "      <td>...</td>\n",
       "      <td>...</td>\n",
       "      <td>...</td>\n",
       "      <td>...</td>\n",
       "      <td>...</td>\n",
       "      <td>...</td>\n",
       "      <td>...</td>\n",
       "      <td>...</td>\n",
       "      <td>...</td>\n",
       "      <td>...</td>\n",
       "      <td>...</td>\n",
       "    </tr>\n",
       "    <tr>\n",
       "      <th>18370</th>\n",
       "      <td>U001</td>\n",
       "      <td>0200769623</td>\n",
       "      <td>WAL-MAR llc</td>\n",
       "      <td>2020-03-09</td>\n",
       "      <td>2020</td>\n",
       "      <td>2020-02-26</td>\n",
       "      <td>2020-02-26</td>\n",
       "      <td>2020-02-26</td>\n",
       "      <td>2020-03-12</td>\n",
       "      <td>USD</td>\n",
       "      <td>RV</td>\n",
       "      <td>1748.38</td>\n",
       "      <td>2020-02-26</td>\n",
       "      <td>NAH4</td>\n",
       "      <td>-3</td>\n",
       "    </tr>\n",
       "    <tr>\n",
       "      <th>26252</th>\n",
       "      <td>U001</td>\n",
       "      <td>0200769623</td>\n",
       "      <td>WAL-MAR trust</td>\n",
       "      <td>2020-03-09</td>\n",
       "      <td>2020</td>\n",
       "      <td>2020-02-26</td>\n",
       "      <td>2020-02-25</td>\n",
       "      <td>2020-02-26</td>\n",
       "      <td>2020-03-12</td>\n",
       "      <td>USD</td>\n",
       "      <td>RV</td>\n",
       "      <td>4809.62</td>\n",
       "      <td>2020-02-26</td>\n",
       "      <td>NAH4</td>\n",
       "      <td>-3</td>\n",
       "    </tr>\n",
       "    <tr>\n",
       "      <th>895</th>\n",
       "      <td>U001</td>\n",
       "      <td>0200718130</td>\n",
       "      <td>SYSCO F trust</td>\n",
       "      <td>2020-04-03</td>\n",
       "      <td>2020</td>\n",
       "      <td>2020-02-26</td>\n",
       "      <td>2020-02-26</td>\n",
       "      <td>2020-02-26</td>\n",
       "      <td>2020-03-29</td>\n",
       "      <td>USD</td>\n",
       "      <td>RV</td>\n",
       "      <td>23787.10</td>\n",
       "      <td>2020-02-26</td>\n",
       "      <td>NA32</td>\n",
       "      <td>5</td>\n",
       "    </tr>\n",
       "    <tr>\n",
       "      <th>8905</th>\n",
       "      <td>U001</td>\n",
       "      <td>0100031704</td>\n",
       "      <td>DELHAIZE us</td>\n",
       "      <td>2020-03-17</td>\n",
       "      <td>2020</td>\n",
       "      <td>2020-02-27</td>\n",
       "      <td>2020-02-27</td>\n",
       "      <td>2020-02-27</td>\n",
       "      <td>2020-03-13</td>\n",
       "      <td>USD</td>\n",
       "      <td>RV</td>\n",
       "      <td>109024.52</td>\n",
       "      <td>2020-02-27</td>\n",
       "      <td>NAA8</td>\n",
       "      <td>4</td>\n",
       "    </tr>\n",
       "    <tr>\n",
       "      <th>26809</th>\n",
       "      <td>U001</td>\n",
       "      <td>0200783734</td>\n",
       "      <td>FAREW corporation</td>\n",
       "      <td>2020-03-12</td>\n",
       "      <td>2020</td>\n",
       "      <td>2020-02-27</td>\n",
       "      <td>2020-02-27</td>\n",
       "      <td>2020-02-27</td>\n",
       "      <td>2020-03-13</td>\n",
       "      <td>USD</td>\n",
       "      <td>RV</td>\n",
       "      <td>60645.81</td>\n",
       "      <td>2020-02-27</td>\n",
       "      <td>NAA8</td>\n",
       "      <td>-1</td>\n",
       "    </tr>\n",
       "  </tbody>\n",
       "</table>\n",
       "<p>39137 rows × 15 columns</p>\n",
       "</div>"
      ],
      "text/plain": [
       "      business_code cust_number      name_customer clear_date  buisness_year  \\\n",
       "39360          U001  0200726979           BJ'S  in 2019-01-15           2019   \n",
       "25027          U001  0200759878      SA foundation 2019-01-15           2019   \n",
       "39674          U013  0100024077         GLOBAL  us 2019-02-14           2019   \n",
       "18576          U001  0200744019            TARG co 2019-01-11           2019   \n",
       "8802           U001  0200769623    WAL-MAR systems 2019-01-10           2019   \n",
       "...             ...         ...                ...        ...            ...   \n",
       "18370          U001  0200769623        WAL-MAR llc 2020-03-09           2020   \n",
       "26252          U001  0200769623      WAL-MAR trust 2020-03-09           2020   \n",
       "895            U001  0200718130      SYSCO F trust 2020-04-03           2020   \n",
       "8905           U001  0100031704        DELHAIZE us 2020-03-17           2020   \n",
       "26809          U001  0200783734  FAREW corporation 2020-03-12           2020   \n",
       "\n",
       "      posting_date document_create_date document_create_date.1 due_in_date  \\\n",
       "39360   2018-12-30           2018-12-29             2018-12-30  2019-01-14   \n",
       "25027   2018-12-30           2018-12-29             2018-12-30  2019-01-14   \n",
       "39674   2018-12-30           2018-12-26             2018-12-30  2019-02-13   \n",
       "18576   2018-12-30           2018-12-31             2018-12-30  2019-01-14   \n",
       "8802    2018-12-30           2018-12-30             2018-12-30  2019-01-14   \n",
       "...            ...                  ...                    ...         ...   \n",
       "18370   2020-02-26           2020-02-26             2020-02-26  2020-03-12   \n",
       "26252   2020-02-26           2020-02-25             2020-02-26  2020-03-12   \n",
       "895     2020-02-26           2020-02-26             2020-02-26  2020-03-29   \n",
       "8905    2020-02-27           2020-02-27             2020-02-27  2020-03-13   \n",
       "26809   2020-02-27           2020-02-27             2020-02-27  2020-03-13   \n",
       "\n",
       "      invoice_currency document type  total_open_amount baseline_create_date  \\\n",
       "39360              USD            RV             307.37           2018-12-30   \n",
       "25027              USD            RV           50099.14           2018-12-30   \n",
       "39674              USD            RV           11734.73           2018-12-30   \n",
       "18576              USD            RV            8156.46           2018-12-30   \n",
       "8802               USD            RV           42630.58           2018-12-30   \n",
       "...                ...           ...                ...                  ...   \n",
       "18370              USD            RV            1748.38           2020-02-26   \n",
       "26252              USD            RV            4809.62           2020-02-26   \n",
       "895                USD            RV           23787.10           2020-02-26   \n",
       "8905               USD            RV          109024.52           2020-02-27   \n",
       "26809              USD            RV           60645.81           2020-02-27   \n",
       "\n",
       "      cust_payment_terms  delay  \n",
       "39360               NAA8      1  \n",
       "25027               NAH4      1  \n",
       "39674               NAVF      1  \n",
       "18576               NAA8     -3  \n",
       "8802                NAH4     -4  \n",
       "...                  ...    ...  \n",
       "18370               NAH4     -3  \n",
       "26252               NAH4     -3  \n",
       "895                 NA32      5  \n",
       "8905                NAA8      4  \n",
       "26809               NAA8     -1  \n",
       "\n",
       "[39137 rows x 15 columns]"
      ]
     },
     "execution_count": 15,
     "metadata": {},
     "output_type": "execute_result"
    }
   ],
   "source": [
    "train.sort_values(by=[\"posting_date\"],inplace=True)\n",
    "train\n"
   ]
  },
  {
   "cell_type": "markdown",
   "id": "67cf9f63",
   "metadata": {
    "id": "67cf9f63"
   },
   "source": [
    "## Droping some columns thus they dont provide info related to delay  to the model"
   ]
  },
  {
   "cell_type": "code",
   "execution_count": 16,
   "id": "a11bc09b",
   "metadata": {
    "id": "a11bc09b"
   },
   "outputs": [],
   "source": [
    "train = train.drop(columns=[\"document_create_date.1\",\"cust_number\",\"document type\", \"document_create_date\", \"baseline_create_date\"],axis=1)"
   ]
  },
  {
   "cell_type": "markdown",
   "id": "408afd29",
   "metadata": {
    "id": "408afd29"
   },
   "source": [
    "# Spliting Train further for creating new val and test for testing model"
   ]
  },
  {
   "cell_type": "code",
   "execution_count": 17,
   "id": "7efe8e86",
   "metadata": {
    "id": "7efe8e86",
    "outputId": "78a460e0-0c12-49b9-ccd1-15256cf95152"
   },
   "outputs": [
    {
     "data": {
      "text/plain": [
       "business_code             6\n",
       "name_customer          3912\n",
       "clear_date              397\n",
       "buisness_year             2\n",
       "posting_date            421\n",
       "due_in_date             492\n",
       "invoice_currency          2\n",
       "total_open_amount     35513\n",
       "cust_payment_terms       68\n",
       "delay                   182\n",
       "posting_year              3\n",
       "posting_month            12\n",
       "dtype: int64"
      ]
     },
     "execution_count": 17,
     "metadata": {},
     "output_type": "execute_result"
    }
   ],
   "source": [
    "# since data is focused on predicting date \n",
    "# spliting will be done on the basis of posting date \n",
    "train[\"posting_year\"] = train[\"posting_date\"].dt.year\n",
    "train[\"posting_month\"] = train[\"posting_date\"].dt.month\n",
    "train.nunique()\n",
    "# 3 distict value in posting year\n",
    "# splitng data year wise to get the record per month in all three year"
   ]
  },
  {
   "cell_type": "markdown",
   "id": "c7321abf",
   "metadata": {
    "id": "c7321abf"
   },
   "source": [
    "#### Spliting data quaterly for uniform record distriution"
   ]
  },
  {
   "cell_type": "code",
   "execution_count": 18,
   "id": "13fcebf6",
   "metadata": {
    "id": "13fcebf6"
   },
   "outputs": [],
   "source": [
    "train_2018 = train[train[\"posting_year\"] == 2018]\n",
    "train_2019 = train[train[\"posting_year\"] == 2019]\n",
    "train_2020 = train[train[\"posting_year\"] == 2020]"
   ]
  },
  {
   "cell_type": "code",
   "execution_count": 19,
   "id": "0fed77a5",
   "metadata": {
    "id": "0fed77a5",
    "outputId": "370a325e-04b7-4949-aa75-0f06b63679c6"
   },
   "outputs": [
    {
     "data": {
      "text/plain": [
       "array([138], dtype=int64)"
      ]
     },
     "execution_count": 19,
     "metadata": {},
     "output_type": "execute_result"
    }
   ],
   "source": [
    "month_2018, count_2018  = np.unique(train_2018.posting_month,return_counts = True)\n",
    "count_2018\n",
    "# means only 1 month from 2018 with 138 records "
   ]
  },
  {
   "cell_type": "code",
   "execution_count": 20,
   "id": "bddf29ba",
   "metadata": {
    "id": "bddf29ba",
    "outputId": "b210fad3-7da0-4207-f1f0-6ad20cd32734"
   },
   "outputs": [
    {
     "data": {
      "text/plain": [
       "array([2670, 2687, 3078, 3064, 3108, 3127, 2945, 2996, 2821, 3029, 2739,\n",
       "       1738], dtype=int64)"
      ]
     },
     "execution_count": 20,
     "metadata": {},
     "output_type": "execute_result"
    }
   ],
   "source": [
    "month_2019, count_2019  = np.unique(train_2019.posting_month,return_counts = True)\n",
    "count_2019"
   ]
  },
  {
   "cell_type": "code",
   "execution_count": 21,
   "id": "1caba6c7",
   "metadata": {
    "id": "1caba6c7",
    "outputId": "9c7c069d-48f7-4b35-d476-47e17c451f69"
   },
   "outputs": [
    {
     "data": {
      "text/plain": [
       "array([2653, 2344], dtype=int64)"
      ]
     },
     "execution_count": 21,
     "metadata": {},
     "output_type": "execute_result"
    }
   ],
   "source": [
    "month_2020, count_2020 = np.unique(train_2020.posting_month,return_counts = True)\n",
    "count_2020"
   ]
  },
  {
   "cell_type": "code",
   "execution_count": 22,
   "id": "8e24267e",
   "metadata": {
    "id": "8e24267e",
    "outputId": "cd9c8a05-8887-46fa-8874-af1cddf23a8c",
    "scrolled": false
   },
   "outputs": [
    {
     "data": {
      "image/png": "[encoded data removed]",
      "text/plain": [
       "<Figure size 432x288 with 1 Axes>"
      ]
     },
     "metadata": {
      "needs_background": "light"
     },
     "output_type": "display_data"
    }
   ],
   "source": [
    "fig = plt.figure()\n",
    "plt.title('Number of records monthly')\n",
    "plt.ylabel('Number of records')\n",
    "plt.xlabel('Months')\n",
    "n=12\n",
    "r = np.arange(n)\n",
    "width = 0.25\n",
    "plt.xticks(r + width/2,['Jan', 'Feb', 'Mar', 'Apr', 'May', 'Jun', 'Jul', 'Aug', 'Sep', 'Oct', 'Nov','Dec'])\n",
    "z = [0,0,0,0,0,0,0,0,0,0,0,0]\n",
    "for m in range(len(month_2018)) :\n",
    "    z[month_2018[m]-1] = count_2018[m]\n",
    "plt.bar(r - width, z, label = '2018',width = width)  \n",
    "\n",
    "plt.bar(r , count_2019, label = '2019',width = width)\n",
    "\n",
    "z = [0,0,0,0,0,0,0,0,0,0,0,0]\n",
    "for m in range(len(month_2020)) :\n",
    "    z[month_2020[m]-1] = count_2020[m]\n",
    "plt.bar(r + width, z, label = '2020',width = width)\n",
    "plt.legend()\n",
    "plt.show()"
   ]
  },
  {
   "cell_type": "markdown",
   "id": "36757abf",
   "metadata": {
    "id": "36757abf"
   },
   "source": [
    "#### after visualizing  the monthly number of record trend in graph \n",
    "#### we can come to the conclusion  that\n",
    "- Jan-2019 to Aug-2019 -> main training set\n",
    "- Sep-2019 to Nov-2019 -> validating set\n",
    "- Dec-2019 to Feb-2020 -> testing set"
   ]
  },
  {
   "cell_type": "code",
   "execution_count": 23,
   "id": "7b01a83f",
   "metadata": {
    "id": "7b01a83f",
    "outputId": "31d0206c-e1e7-4eb3-aa82-2bbc049b3bec"
   },
   "outputs": [
    {
     "name": "stdout",
     "output_type": "stream",
     "text": [
      "Min Max value of main_train: 2019-01-01 00:00:00 2019-08-31 00:00:00 (23675, 12)\n",
      "Min Max value of val: 2019-09-01 00:00:00 2019-11-30 00:00:00 (8589, 12)\n",
      "Min Max value of testing: 2019-12-01 00:00:00 2020-02-27 00:00:00 (6735, 12)\n"
     ]
    }
   ],
   "source": [
    "# seleting_train = (train[\"posting_month\"] < 9 & train[\"posting_year\"] == 2019) | (train[\"posting_month\"] == 12 & train[\"posting_year\"] == 2018) \n",
    "main_train = pd.DataFrame(train[(train[\"posting_year\"] != 2020)])\n",
    "main_train = pd.DataFrame(main_train[(main_train[\"posting_month\"] < 9)])\n",
    "val = pd.DataFrame(train[(train[\"posting_year\"] != 2020)])\n",
    "val = pd.DataFrame(val[(val[\"posting_year\"] != 2018)])\n",
    "val = pd.DataFrame(val[(val[\"posting_month\"] > 8)])\n",
    "val = pd.DataFrame(val[(val[\"posting_month\"] < 12)])\n",
    "last_month_2019 = pd.DataFrame(train_2019[(train_2019[\"posting_month\"] == 12)])\n",
    "testing = last_month_2019.append(train_2020)\n",
    "print(\"Min Max value of main_train:\" ,main_train.posting_date.min(),main_train.posting_date.max(),main_train.shape)\n",
    "print(\"Min Max value of val:\" ,val.posting_date.min(),val.posting_date.max(),val.shape)\n",
    "print(\"Min Max value of testing:\" ,testing.posting_date.min(),testing.posting_date.max(),testing.shape)"
   ]
  },
  {
   "cell_type": "markdown",
   "id": "f81d7543",
   "metadata": {
    "id": "f81d7543"
   },
   "source": [
    "## Seprating target column from training set "
   ]
  },
  {
   "cell_type": "code",
   "execution_count": 24,
   "id": "509c5d8a",
   "metadata": {
    "id": "509c5d8a",
    "outputId": "331eb757-bc94-465b-faa2-8766f6356950"
   },
   "outputs": [
    {
     "data": {
      "text/plain": [
       "(Timestamp('2019-12-01 00:00:00'), Timestamp('2020-02-27 00:00:00'))"
      ]
     },
     "execution_count": 24,
     "metadata": {},
     "output_type": "execute_result"
    }
   ],
   "source": [
    "testing.posting_date.min(),testing.posting_date.max()"
   ]
  },
  {
   "cell_type": "code",
   "execution_count": 25,
   "id": "faf2ea51",
   "metadata": {
    "id": "faf2ea51",
    "outputId": "f9505bb1-1e2f-4632-f556-b47716dc2557"
   },
   "outputs": [
    {
     "data": {
      "text/plain": [
       "(Timestamp('2019-01-01 00:00:00'), Timestamp('2019-08-31 00:00:00'))"
      ]
     },
     "execution_count": 25,
     "metadata": {},
     "output_type": "execute_result"
    }
   ],
   "source": [
    "main_train.posting_date.min(),main_train.posting_date.max()"
   ]
  },
  {
   "cell_type": "code",
   "execution_count": 26,
   "id": "6231bd6f",
   "metadata": {
    "id": "6231bd6f",
    "outputId": "7f79cae9-da53-41ad-d114-c7cb26bfea44"
   },
   "outputs": [
    {
     "name": "stdout",
     "output_type": "stream",
     "text": [
      "business_code             6\n",
      "name_customer          3117\n",
      "clear_date              262\n",
      "buisness_year             1\n",
      "posting_date            243\n",
      "due_in_date             316\n",
      "invoice_currency          2\n",
      "total_open_amount     21728\n",
      "cust_payment_terms       59\n",
      "posting_year              1\n",
      "posting_month             8\n",
      "dtype: int64\n",
      "####################################################################################################\n",
      "business_code            4\n",
      "name_customer         1901\n",
      "clear_date              94\n",
      "buisness_year            1\n",
      "posting_date            91\n",
      "due_in_date            132\n",
      "invoice_currency         2\n",
      "total_open_amount     8100\n",
      "cust_payment_terms      49\n",
      "posting_year             1\n",
      "posting_month            3\n",
      "dtype: int64\n",
      "####################################################################################################\n",
      "business_code            5\n",
      "name_customer         1599\n",
      "clear_date             120\n",
      "buisness_year            2\n",
      "posting_date            85\n",
      "due_in_date            152\n",
      "invoice_currency         2\n",
      "total_open_amount     6357\n",
      "cust_payment_terms      47\n",
      "posting_year             2\n",
      "posting_month            3\n",
      "dtype: int64\n",
      "####################################################################################################\n"
     ]
    }
   ],
   "source": [
    "main_train_x = main_train.drop(columns=\"delay\",axis=1)\n",
    "main_train_y = main_train.delay\n",
    "val_x = val.drop(columns=\"delay\",axis=1)\n",
    "val_y = val.delay\n",
    "testing_x = testing.drop(columns=\"delay\",axis=1)\n",
    "testing_y = testing.delay\n",
    "print(main_train_x.nunique())\n",
    "print(\"##\"*50)\n",
    "print(val_x.nunique())\n",
    "print(\"##\"*50)\n",
    "print(testing_x.nunique())\n",
    "print(\"##\"*50)\n"
   ]
  },
  {
   "cell_type": "markdown",
   "id": "e2a44431",
   "metadata": {
    "id": "e2a44431"
   },
   "source": [
    "# EDA"
   ]
  },
  {
   "cell_type": "code",
   "execution_count": 27,
   "id": "40bb4603",
   "metadata": {
    "id": "40bb4603",
    "outputId": "157bc415-ee70-4857-b71d-8a0a85f25f6f"
   },
   "outputs": [
    {
     "data": {
      "text/plain": [
       "(-80, 277, 1.1103273495248152)"
      ]
     },
     "execution_count": 27,
     "metadata": {},
     "output_type": "execute_result"
    }
   ],
   "source": [
    "main_train_y.describe()\n",
    "main_train_y.min(),main_train_y.max(),main_train_y.mean()"
   ]
  },
  {
   "cell_type": "code",
   "execution_count": 28,
   "id": "1df4ac29",
   "metadata": {
    "id": "1df4ac29",
    "outputId": "ab1bd2b2-1359-4627-d1af-a188f37e76e7"
   },
   "outputs": [
    {
     "name": "stderr",
     "output_type": "stream",
     "text": [
      "c:\\users\\hrishikesh thakur\\appdata\\local\\programs\\python\\python37\\lib\\site-packages\\seaborn\\distributions.py:2557: FutureWarning: `distplot` is a deprecated function and will be removed in a future version. Please adapt your code to use either `displot` (a figure-level function with similar flexibility) or `histplot` (an axes-level function for histograms).\n",
      "  warnings.warn(msg, FutureWarning)\n"
     ]
    },
    {
     "data": {
      "text/plain": [
       "<AxesSubplot:xlabel='delay', ylabel='Density'>"
      ]
     },
     "execution_count": 28,
     "metadata": {},
     "output_type": "execute_result"
    },
    {
     "data": {
      "image/png": "[encoded data removed]",
      "text/plain": [
       "<Figure size 432x288 with 1 Axes>"
      ]
     },
     "metadata": {
      "needs_background": "light"
     },
     "output_type": "display_data"
    }
   ],
   "source": [
    "sns.distplot (main_train_y)"
   ]
  },
  {
   "cell_type": "markdown",
   "id": "e0a8014b",
   "metadata": {
    "id": "e0a8014b"
   },
   "source": [
    "## Detecting and Removing outlier"
   ]
  },
  {
   "cell_type": "code",
   "execution_count": 29,
   "id": "e3c583db",
   "metadata": {
    "id": "e3c583db",
    "outputId": "c9ab48ad-37b5-4888-c146-656f0780f1ad"
   },
   "outputs": [
    {
     "data": {
      "text/plain": [
       "(5.0, 2.0, -3.0)"
      ]
     },
     "execution_count": 29,
     "metadata": {},
     "output_type": "execute_result"
    }
   ],
   "source": [
    "main_train_x = main_train_x.merge(main_train_y,on = main_train_x.index)\n",
    "Q1 = np.percentile(main_train_x['delay'], 25, \n",
    "                   interpolation = 'midpoint') \n",
    "  \n",
    "Q3 = np.percentile(main_train_x['delay'], 75,\n",
    "                   interpolation = 'midpoint') \n",
    "IQR = Q3 - Q1 \n",
    "IQR, Q3 ,Q1"
   ]
  },
  {
   "cell_type": "code",
   "execution_count": 30,
   "id": "865aa8f4",
   "metadata": {
    "id": "865aa8f4",
    "outputId": "85ff676b-3f88-412c-ea37-d40c7bc1cdb1"
   },
   "outputs": [
    {
     "data": {
      "text/plain": [
       "(9.5, -10.5)"
      ]
     },
     "execution_count": 30,
     "metadata": {},
     "output_type": "execute_result"
    }
   ],
   "source": [
    "upper = Q3 +1.5*IQR\n",
    "\n",
    "lower = Q1 - 1.5*IQR\n",
    "upper,lower"
   ]
  },
  {
   "cell_type": "code",
   "execution_count": 31,
   "id": "b85f137c",
   "metadata": {
    "id": "b85f137c",
    "outputId": "16230666-a009-4a5f-96fc-2421f582177b"
   },
   "outputs": [
    {
     "name": "stdout",
     "output_type": "stream",
     "text": [
      "-10 9 -0.254241939172193 (21865, 13)\n"
     ]
    }
   ],
   "source": [
    "# main_train_x = main_train_x[((main_train_y<lower)&(main_train_y>upper))]\n",
    "main_train_x =  main_train_x[(main_train_x[\"delay\"]>lower)]\n",
    "main_train_x =  main_train_x[(main_train_x[\"delay\"]<upper)]\n",
    "print(main_train_x.delay.min(),main_train_x.delay.max(),main_train_x.delay.mean(),main_train_x.shape)\n",
    "main_train_y = main_train_x.delay\n",
    "main_train_x = main_train_x.drop(columns=[\"key_0\",\"delay\"])"
   ]
  },
  {
   "cell_type": "code",
   "execution_count": 32,
   "id": "dcf95418",
   "metadata": {
    "id": "dcf95418",
    "outputId": "2da10613-4e0a-4b2e-db3f-d490056c9a8c"
   },
   "outputs": [
    {
     "data": {
      "text/plain": [
       "<AxesSubplot:xlabel='delay', ylabel='total_open_amount'>"
      ]
     },
     "execution_count": 32,
     "metadata": {},
     "output_type": "execute_result"
    },
    {
     "data": {
      "image/png": "[encoded data removed]",
      "text/plain": [
       "<Figure size 432x288 with 1 Axes>"
      ]
     },
     "metadata": {
      "needs_background": "light"
     },
     "output_type": "display_data"
    }
   ],
   "source": [
    "sns.scatterplot(data=main_train_x.merge(main_train_y,on = main_train_x.index), y=\"total_open_amount\", x=\"delay\")"
   ]
  },
  {
   "cell_type": "markdown",
   "id": "260e2045",
   "metadata": {
    "id": "260e2045"
   },
   "source": [
    "## Feature engineering"
   ]
  },
  {
   "cell_type": "code",
   "execution_count": 33,
   "id": "2ba93051",
   "metadata": {
    "id": "2ba93051",
    "outputId": "5e9d1a87-1339-40a7-c93f-a88f063b4664"
   },
   "outputs": [
    {
     "name": "stdout",
     "output_type": "stream",
     "text": [
      "<class 'pandas.core.frame.DataFrame'>\n",
      "Int64Index: 21865 entries, 1 to 23674\n",
      "Data columns (total 11 columns):\n",
      " #   Column              Non-Null Count  Dtype         \n",
      "---  ------              --------------  -----         \n",
      " 0   business_code       21865 non-null  object        \n",
      " 1   name_customer       21865 non-null  object        \n",
      " 2   clear_date          21865 non-null  datetime64[ns]\n",
      " 3   buisness_year       21865 non-null  int64         \n",
      " 4   posting_date        21865 non-null  datetime64[ns]\n",
      " 5   due_in_date         21865 non-null  datetime64[ns]\n",
      " 6   invoice_currency    21865 non-null  object        \n",
      " 7   total_open_amount   21865 non-null  float64       \n",
      " 8   cust_payment_terms  21865 non-null  object        \n",
      " 9   posting_year        21865 non-null  int64         \n",
      " 10  posting_month       21865 non-null  int64         \n",
      "dtypes: datetime64[ns](3), float64(1), int64(3), object(4)\n",
      "memory usage: 2.0+ MB\n"
     ]
    }
   ],
   "source": [
    "main_train_x.info()\n"
   ]
  },
  {
   "cell_type": "markdown",
   "id": "f29b9c2a",
   "metadata": {
    "id": "f29b9c2a"
   },
   "source": [
    "## Label encoding of required columns"
   ]
  },
  {
   "cell_type": "markdown",
   "id": "0007bcce",
   "metadata": {
    "id": "0007bcce"
   },
   "source": [
    "#### business code label encode"
   ]
  },
  {
   "cell_type": "code",
   "execution_count": 34,
   "id": "3727965c",
   "metadata": {
    "id": "3727965c",
    "outputId": "b64034d9-06d3-4cca-82a3-04f55e8351ca"
   },
   "outputs": [
    {
     "data": {
      "text/plain": [
       "array(['CA02', 'U001', 'U002', 'U005', 'U007', 'U013'], dtype=object)"
      ]
     },
     "execution_count": 34,
     "metadata": {},
     "output_type": "execute_result"
    }
   ],
   "source": [
    "business_code_encoder = LabelEncoder()\n",
    "business_code_encoder.fit(main_train_x[\"business_code\"])\n",
    "main_train_x['business_code_enc'] = business_code_encoder.transform(main_train_x['business_code'])\n",
    "val_x['business_code_enc'] = business_code_encoder.transform(val_x['business_code'])\n",
    "testing_x['business_code_enc'] = business_code_encoder.transform(testing_x['business_code'])\n",
    "business_code_encoder.classes_"
   ]
  },
  {
   "cell_type": "code",
   "execution_count": 35,
   "id": "3ab383be",
   "metadata": {
    "id": "3ab383be",
    "outputId": "5b7e3a66-8fe5-4851-e2e7-ec24e67db126"
   },
   "outputs": [
    {
     "data": {
      "text/plain": [
       "<AxesSubplot:xlabel='business_code_enc', ylabel='delay'>"
      ]
     },
     "execution_count": 35,
     "metadata": {},
     "output_type": "execute_result"
    },
    {
     "data": {
      "image/png": "[encoded data removed]",
      "text/plain": [
       "<Figure size 432x288 with 1 Axes>"
      ]
     },
     "metadata": {
      "needs_background": "light"
     },
     "output_type": "display_data"
    }
   ],
   "source": [
    "sns.scatterplot(data=main_train_x.merge(main_train_y,on = main_train_x.index), y=\"delay\", x=\"business_code_enc\")"
   ]
  },
  {
   "cell_type": "markdown",
   "id": "a2aed06d",
   "metadata": {
    "id": "a2aed06d"
   },
   "source": [
    "## business code target encoding"
   ]
  },
  {
   "cell_type": "code",
   "execution_count": 36,
   "id": "b94845b1",
   "metadata": {
    "id": "b94845b1",
    "outputId": "73ad43c6-1fac-455e-a2b7-f38a350d9511"
   },
   "outputs": [
    {
     "data": {
      "text/plain": [
       "business_code\n",
       "CA02    2.943538\n",
       "U001   -0.524922\n",
       "U002    3.086207\n",
       "U005    6.125000\n",
       "U007    4.000000\n",
       "U013    0.027027\n",
       "Name: delay, dtype: float64"
      ]
     },
     "execution_count": 36,
     "metadata": {},
     "output_type": "execute_result"
    }
   ],
   "source": [
    "bussiness_mean = main_train_x.merge(main_train_y , on = main_train_x.index ).groupby('business_code')['delay'].mean()\n",
    "bussiness_mean "
   ]
  },
  {
   "cell_type": "code",
   "execution_count": 37,
   "id": "a8148ef0",
   "metadata": {
    "id": "a8148ef0",
    "outputId": "80cfed1e-f3d8-4dde-dbef-85c8a98ce587"
   },
   "outputs": [
    {
     "data": {
      "text/plain": [
       "1       -0.524922\n",
       "2       -0.524922\n",
       "5       -0.524922\n",
       "6       -0.524922\n",
       "7       -0.524922\n",
       "           ...   \n",
       "23670   -0.524922\n",
       "23671   -0.524922\n",
       "23672   -0.524922\n",
       "23673   -0.524922\n",
       "23674   -0.524922\n",
       "Name: bus_code_target, Length: 21865, dtype: float64"
      ]
     },
     "execution_count": 37,
     "metadata": {},
     "output_type": "execute_result"
    }
   ],
   "source": [
    "main_train_x['bus_code_target'] = main_train_x['business_code'].map(bussiness_mean)\n",
    "val_x['bus_code_target'] = val_x['business_code'].map(bussiness_mean)\n",
    "testing_x['bus_code_target'] = testing_x['business_code'].map(bussiness_mean)\n",
    "main_train_x[\"bus_code_target\"]"
   ]
  },
  {
   "cell_type": "code",
   "execution_count": 38,
   "id": "d37a0ed9",
   "metadata": {
    "id": "d37a0ed9"
   },
   "outputs": [],
   "source": [
    "main_train_x.drop(columns=\"business_code\",axis=1,inplace=True)\n",
    "val_x.drop(columns=\"business_code\",axis=1,inplace=True)\n",
    "testing_x.drop(columns=\"business_code\",axis=1,inplace=True)\n",
    "main_train_x.drop(columns=\"business_code_enc\",axis=1,inplace=True)\n",
    "val_x.drop(columns=\"business_code_enc\",axis=1,inplace=True)\n",
    "testing_x.drop(columns=\"business_code_enc\",axis=1,inplace=True)"
   ]
  },
  {
   "cell_type": "markdown",
   "id": "8e080256",
   "metadata": {
    "id": "8e080256"
   },
   "source": [
    "#### invoice currency label encoding"
   ]
  },
  {
   "cell_type": "code",
   "execution_count": 39,
   "id": "1d9ca62e",
   "metadata": {
    "id": "1d9ca62e",
    "outputId": "e8a063c0-eb0c-4c6c-e240-7df4d2b6862a"
   },
   "outputs": [
    {
     "data": {
      "text/plain": [
       "array(['CAD', 'USD'], dtype=object)"
      ]
     },
     "execution_count": 39,
     "metadata": {},
     "output_type": "execute_result"
    }
   ],
   "source": [
    "invoice_curr_encoder = LabelEncoder()\n",
    "invoice_curr_encoder.fit(main_train_x[\"invoice_currency\"])\n",
    "main_train_x['invoice_curr_enc'] = invoice_curr_encoder.transform(main_train_x['invoice_currency'])\n",
    "val_x['invoice_curr_enc'] = invoice_curr_encoder.transform(val_x['invoice_currency'])\n",
    "testing_x['invoice_curr_enc'] = invoice_curr_encoder.transform(testing_x['invoice_currency'])\n",
    "invoice_curr_encoder.classes_"
   ]
  },
  {
   "cell_type": "code",
   "execution_count": 40,
   "id": "728184e6",
   "metadata": {
    "id": "728184e6"
   },
   "outputs": [],
   "source": [
    "main_train_x.drop(columns=\"invoice_currency\",axis=1,inplace=True)\n",
    "val_x.drop(columns=\"invoice_currency\",axis=1,inplace=True)\n",
    "testing_x.drop(columns=\"invoice_currency\",axis=1,inplace=True)"
   ]
  },
  {
   "cell_type": "code",
   "execution_count": 41,
   "id": "4436ca9c",
   "metadata": {
    "id": "4436ca9c",
    "outputId": "a5161c01-90af-4476-875d-2cedd7ea499d"
   },
   "outputs": [
    {
     "data": {
      "text/plain": [
       "<AxesSubplot:xlabel='invoice_curr_enc', ylabel='delay'>"
      ]
     },
     "execution_count": 41,
     "metadata": {},
     "output_type": "execute_result"
    },
    {
     "data": {
      "image/png": "[encoded data removed]",
      "text/plain": [
       "<Figure size 432x288 with 1 Axes>"
      ]
     },
     "metadata": {
      "needs_background": "light"
     },
     "output_type": "display_data"
    }
   ],
   "source": [
    "sns.scatterplot(data=main_train_x.merge(main_train_y,on = main_train_x.index), y=\"delay\", x=\"invoice_curr_enc\")"
   ]
  },
  {
   "cell_type": "markdown",
   "id": "cb7462b0",
   "metadata": {
    "id": "cb7462b0"
   },
   "source": [
    "#### Customer payment terms label encoding"
   ]
  },
  {
   "cell_type": "code",
   "execution_count": 42,
   "id": "af5659ac",
   "metadata": {
    "id": "af5659ac",
    "outputId": "6b8a8624-859e-4372-c38e-c1f9cda37291"
   },
   "outputs": [
    {
     "data": {
      "text/plain": [
       "array(['B052', 'B112', 'BR56', 'C106', 'CA10', 'CA30', 'CAB1', 'NA10',\n",
       "       'NA25', 'NA31', 'NA32', 'NA38', 'NA3B', 'NA3F', 'NA84', 'NA9X',\n",
       "       'NAA8', 'NAAW', 'NAAX', 'NAB1', 'NABG', 'NAC6', 'NACB', 'NAD1',\n",
       "       'NAD4', 'NAD5', 'NAG2', 'NAGD', 'NAH4', 'NAM1', 'NAM2', 'NAM4',\n",
       "       'NANC', 'NATH', 'NATJ', 'NATK', 'NAU5', 'NAUP', 'NAUZ', 'NAV9',\n",
       "       'NAVC', 'NAVD', 'NAVE', 'NAVF', 'NAVL', 'NAVM', 'NAVQ', 'NAVR',\n",
       "       'NAWM', 'NAWN', 'NAWP', 'NAX2'], dtype=object)"
      ]
     },
     "execution_count": 42,
     "metadata": {},
     "output_type": "execute_result"
    }
   ],
   "source": [
    "cust_payment_terms_encoder = LabelEncoder()\n",
    "cust_payment_terms_encoder.fit(main_train_x[\"cust_payment_terms\"])\n",
    "main_train_x['cust_payment_terms_enc'] = cust_payment_terms_encoder.transform(main_train_x['cust_payment_terms'])\n",
    "cust_payment_terms_encoder.classes_"
   ]
  },
  {
   "cell_type": "code",
   "execution_count": 43,
   "id": "6b189276",
   "metadata": {
    "id": "6b189276"
   },
   "outputs": [],
   "source": [
    "# for adding unseen variable\n",
    "extra = set(val_x['cust_payment_terms'])-set(cust_payment_terms_encoder.classes_)\n",
    "# adding them to the classess variable // \n",
    "for i in extra:\n",
    "    cust_payment_terms_encoder.classes_ = np.append(cust_payment_terms_encoder.classes_,i)\n",
    "val_x['cust_payment_terms_enc'] = cust_payment_terms_encoder.transform(val_x['cust_payment_terms'])   "
   ]
  },
  {
   "cell_type": "code",
   "execution_count": 44,
   "id": "ec45af1b",
   "metadata": {
    "id": "ec45af1b"
   },
   "outputs": [],
   "source": [
    "# for adding unseen variable\n",
    "extra = set(testing_x['cust_payment_terms'])-set(cust_payment_terms_encoder.classes_)\n",
    "# adding them to the classess variable // \n",
    "for i in extra:\n",
    "    cust_payment_terms_encoder.classes_ = np.append(cust_payment_terms_encoder.classes_,i)\n",
    "testing_x['cust_payment_terms_enc'] = cust_payment_terms_encoder.transform(testing_x['cust_payment_terms'])"
   ]
  },
  {
   "cell_type": "code",
   "execution_count": 45,
   "id": "524bf129",
   "metadata": {
    "id": "524bf129"
   },
   "outputs": [],
   "source": [
    "main_train_x.drop(columns=\"cust_payment_terms\",axis=1,inplace=True)\n",
    "val_x.drop(columns=\"cust_payment_terms\",axis=1,inplace=True)\n",
    "testing_x.drop(columns=\"cust_payment_terms\",axis=1,inplace=True)"
   ]
  },
  {
   "cell_type": "code",
   "execution_count": 46,
   "id": "c9a998d2",
   "metadata": {
    "id": "c9a998d2",
    "outputId": "620d184c-583f-4c6f-a3bc-eb70c88ae295"
   },
   "outputs": [
    {
     "data": {
      "text/plain": [
       "<AxesSubplot:xlabel='cust_payment_terms_enc', ylabel='delay'>"
      ]
     },
     "execution_count": 46,
     "metadata": {},
     "output_type": "execute_result"
    },
    {
     "data": {
      "image/png": "[encoded data removed]",
      "text/plain": [
       "<Figure size 432x288 with 1 Axes>"
      ]
     },
     "metadata": {
      "needs_background": "light"
     },
     "output_type": "display_data"
    }
   ],
   "source": [
    "sns.scatterplot(data=main_train_x.merge(main_train_y,on = main_train_x.index), y=\"delay\", x=\"cust_payment_terms_enc\")"
   ]
  },
  {
   "cell_type": "markdown",
   "id": "2c4860be",
   "metadata": {
    "id": "2c4860be"
   },
   "source": [
    "#### Customer Name Target  encoding"
   ]
  },
  {
   "cell_type": "code",
   "execution_count": 47,
   "id": "167a4914",
   "metadata": {
    "id": "167a4914",
    "outputId": "f81a5180-b60a-4c90-d492-657c6dc971bb"
   },
   "outputs": [],
   "source": [
    "customer_means = main_train_x.merge(main_train_y , on = main_train_x.index ).groupby('name_customer')['delay'].mean()\n",
    "customer_means_val = val_x.merge(val_y , on = val_x.index ).groupby('name_customer')['delay'].mean()\n",
    "customer_means_test = testing_x.merge(testing_y , on = testing_x.index ).groupby('name_customer')['delay'].mean()\n",
    "mean = dict(customer_means)\n",
    "mean_val = dict(customer_means_val)\n",
    "mean_test = dict(customer_means_test)\n",
    "# print(d.keys(),len(d))\n",
    "for values,key in mean_val.items():\n",
    "    if values not in mean.keys():\n",
    "        mean[values]=key\n",
    "for values,key in mean_test.items():        \n",
    "    if values not in mean.keys():\n",
    "        mean[values]=key\n",
    "# print(d.keys(),len(d))        "
   ]
  },
  {
   "cell_type": "code",
   "execution_count": 48,
   "id": "1638507f",
   "metadata": {
    "id": "1638507f",
    "outputId": "aa80c91d-fd99-4ac6-d229-7e1301d1c7f6"
   },
   "outputs": [
    {
     "data": {
      "text/plain": [
       "1        0.760870\n",
       "2        0.227848\n",
       "5        0.542857\n",
       "6        1.000000\n",
       "7        0.538462\n",
       "           ...   \n",
       "23670    0.375000\n",
       "23671   -2.669510\n",
       "23672    0.702703\n",
       "23673   -0.133333\n",
       "23674   -2.601547\n",
       "Name: name_customer, Length: 21865, dtype: float64"
      ]
     },
     "execution_count": 48,
     "metadata": {},
     "output_type": "execute_result"
    }
   ],
   "source": [
    "main_train_x['name_customer'] = main_train_x['name_customer'].map(mean)\n",
    "val_x['name_customer'] = val_x['name_customer'].map(mean)\n",
    "testing_x['name_customer'] = testing_x['name_customer'].map(mean)\n",
    "main_train_x[\"name_customer\"]"
   ]
  },
  {
   "cell_type": "code",
   "execution_count": 49,
   "id": "30810be1",
   "metadata": {
    "id": "30810be1",
    "outputId": "89430df2-ea7b-4af3-8d51-a5c5bc037051"
   },
   "outputs": [
    {
     "data": {
      "text/plain": [
       "<AxesSubplot:xlabel='name_customer', ylabel='delay'>"
      ]
     },
     "execution_count": 49,
     "metadata": {},
     "output_type": "execute_result"
    },
    {
     "data": {
      "image/png": "[encoded data removed]",
      "text/plain": [
       "<Figure size 432x288 with 1 Axes>"
      ]
     },
     "metadata": {
      "needs_background": "light"
     },
     "output_type": "display_data"
    }
   ],
   "source": [
    "sns.scatterplot(data=main_train_x.merge(main_train_y,on = main_train_x.index), y=\"delay\", x=\"name_customer\")"
   ]
  },
  {
   "cell_type": "markdown",
   "id": "1a04def9",
   "metadata": {
    "id": "1a04def9"
   },
   "source": [
    "### Breaking due in date to day "
   ]
  },
  {
   "cell_type": "code",
   "execution_count": 50,
   "id": "81b1e4b3",
   "metadata": {
    "id": "81b1e4b3"
   },
   "outputs": [],
   "source": [
    "main_train_x['due_in_day'] = main_train_x['due_in_date'].dt.day\n",
    "\n",
    "\n",
    "val_x['due_in_day'] = val_x['due_in_date'].dt.day\n",
    "\n",
    "testing_x['due_in_day'] = testing_x['due_in_date'].dt.day"
   ]
  },
  {
   "cell_type": "code",
   "execution_count": 51,
   "id": "f4710393",
   "metadata": {
    "id": "f4710393"
   },
   "outputs": [],
   "source": [
    "main_train_x.drop(columns=\"due_in_date\",axis=1,inplace=True)\n",
    "val_x.drop(columns=\"due_in_date\",axis=1,inplace=True)\n",
    "testing_x.drop(columns=\"due_in_date\",axis=1,inplace=True)\n"
   ]
  },
  {
   "cell_type": "markdown",
   "id": "653e5fc9",
   "metadata": {
    "id": "653e5fc9"
   },
   "source": [
    "### Droping unwanted columns"
   ]
  },
  {
   "cell_type": "code",
   "execution_count": 52,
   "id": "40014325",
   "metadata": {
    "id": "40014325"
   },
   "outputs": [],
   "source": [
    "main_train_x.drop(columns=\"clear_date\",axis=1,inplace=True)\n",
    "val_x.drop(columns=\"clear_date\",axis=1,inplace=True)\n",
    "testing_x.drop(columns=\"clear_date\",axis=1,inplace=True)\n",
    "\n",
    "main_train_x.drop(columns=\"posting_date\",axis=1,inplace=True)\n",
    "val_x.drop(columns=\"posting_date\",axis=1,inplace=True)\n",
    "testing_x.drop(columns=\"posting_date\",axis=1,inplace=True)\n",
    "\n",
    "main_train_x.drop(columns=\"posting_year\",axis=1,inplace=True)\n",
    "val_x.drop(columns=\"posting_year\",axis=1,inplace=True)\n",
    "testing_x.drop(columns=\"posting_year\",axis=1,inplace=True)\n",
    "\n",
    "main_train_x.drop(columns=\"posting_month\",axis=1,inplace=True)\n",
    "val_x.drop(columns=\"posting_month\",axis=1,inplace=True)\n",
    "testing_x.drop(columns=\"posting_month\",axis=1,inplace=True)"
   ]
  },
  {
   "cell_type": "code",
   "execution_count": 53,
   "id": "e86ad065",
   "metadata": {
    "id": "e86ad065",
    "outputId": "63afd037-d249-4d36-a02b-8b0a944a7ffa"
   },
   "outputs": [
    {
     "name": "stdout",
     "output_type": "stream",
     "text": [
      "name_customer               452\n",
      "buisness_year                 1\n",
      "total_open_amount         20106\n",
      "bus_code_target               6\n",
      "invoice_curr_enc              2\n",
      "cust_payment_terms_enc       52\n",
      "due_in_day                   31\n",
      "dtype: int64\n",
      "####################################################################################################\n",
      "name_customer              498\n",
      "buisness_year                1\n",
      "total_open_amount         8100\n",
      "bus_code_target              4\n",
      "invoice_curr_enc             2\n",
      "cust_payment_terms_enc      49\n",
      "due_in_day                  31\n",
      "dtype: int64\n",
      "####################################################################################################\n",
      "name_customer              492\n",
      "buisness_year                2\n",
      "total_open_amount         6357\n",
      "bus_code_target              5\n",
      "invoice_curr_enc             2\n",
      "cust_payment_terms_enc      47\n",
      "due_in_day                  31\n",
      "dtype: int64\n",
      "####################################################################################################\n"
     ]
    }
   ],
   "source": [
    "print(main_train_x.nunique())\n",
    "print(\"##\"*50)\n",
    "print(val_x.nunique())\n",
    "print(\"##\"*50)\n",
    "print(testing_x.nunique())\n",
    "print(\"##\"*50)"
   ]
  },
  {
   "cell_type": "code",
   "execution_count": 54,
   "id": "d1f2fa2e",
   "metadata": {
    "id": "d1f2fa2e",
    "outputId": "766c9327-2012-400d-d1a4-7d6693e83288"
   },
   "outputs": [
    {
     "name": "stdout",
     "output_type": "stream",
     "text": [
      "<class 'pandas.core.frame.DataFrame'>\n",
      "Int64Index: 21865 entries, 1 to 23674\n",
      "Data columns (total 7 columns):\n",
      " #   Column                  Non-Null Count  Dtype  \n",
      "---  ------                  --------------  -----  \n",
      " 0   name_customer           21865 non-null  float64\n",
      " 1   buisness_year           21865 non-null  int64  \n",
      " 2   total_open_amount       21865 non-null  float64\n",
      " 3   bus_code_target         21865 non-null  float64\n",
      " 4   invoice_curr_enc        21865 non-null  int32  \n",
      " 5   cust_payment_terms_enc  21865 non-null  int32  \n",
      " 6   due_in_day              21865 non-null  int64  \n",
      "dtypes: float64(3), int32(2), int64(2)\n",
      "memory usage: 1.2 MB\n"
     ]
    }
   ],
   "source": [
    "main_train_x.info()"
   ]
  },
  {
   "cell_type": "markdown",
   "id": "ee8a388a",
   "metadata": {
    "id": "ee8a388a"
   },
   "source": [
    "## Feature Selection"
   ]
  },
  {
   "cell_type": "code",
   "execution_count": 55,
   "id": "1aa7c8aa",
   "metadata": {
    "id": "1aa7c8aa",
    "outputId": "d3aec80b-7555-43e9-cb08-c6308f5214db"
   },
   "outputs": [
    {
     "data": {
      "text/plain": [
       "<AxesSubplot:title={'center':'Pearson Correlation of Features'}>"
      ]
     },
     "execution_count": 55,
     "metadata": {},
     "output_type": "execute_result"
    },
    {
     "data": {
      "image/png": "[encoded data removed]",
      "text/plain": [
       "<Figure size 1008x864 with 2 Axes>"
      ]
     },
     "metadata": {
      "needs_background": "light"
     },
     "output_type": "display_data"
    }
   ],
   "source": [
    "colormap = plt.cm.RdBu\n",
    "plt.figure(figsize=(14,12))\n",
    "plt.title('Pearson Correlation of Features', y=1.05, size=15)\n",
    "sns.heatmap(main_train_x.merge(main_train_y , on = main_train_x.index ).corr(),linewidths=0.1,vmax=1.0, \n",
    "            square=True, cmap=colormap, linecolor='white', annot=True)"
   ]
  },
  {
   "cell_type": "code",
   "execution_count": 56,
   "id": "20d072f7",
   "metadata": {
    "id": "20d072f7"
   },
   "outputs": [],
   "source": [
    "main_train_x.drop(columns=\"buisness_year\",axis=1,inplace=True)\n",
    "val_x.drop(columns=\"buisness_year\",axis=1,inplace=True)\n",
    "testing_x.drop(columns=\"buisness_year\",axis=1,inplace=True)"
   ]
  },
  {
   "cell_type": "code",
   "execution_count": 57,
   "id": "293b2e94",
   "metadata": {
    "id": "293b2e94",
    "outputId": "6c627d90-b90f-4f5c-d07d-456c86ddde59"
   },
   "outputs": [
    {
     "data": {
      "text/plain": [
       "<AxesSubplot:title={'center':'Pearson Correlation of Features'}>"
      ]
     },
     "execution_count": 57,
     "metadata": {},
     "output_type": "execute_result"
    },
    {
     "data": {
      "image/png": "[encoded data removed]",
      "text/plain": [
       "<Figure size 1008x864 with 2 Axes>"
      ]
     },
     "metadata": {
      "needs_background": "light"
     },
     "output_type": "display_data"
    }
   ],
   "source": [
    "colormap = plt.cm.RdBu\n",
    "plt.figure(figsize=(14,12))\n",
    "plt.title('Pearson Correlation of Features', y=1.05, size=15)\n",
    "sns.heatmap(main_train_x.merge(main_train_y , on = main_train_x.index ).corr(),linewidths=0.1,vmax=1.0, \n",
    "            square=True, cmap=colormap, linecolor='white', annot=True)"
   ]
  },
  {
   "cell_type": "code",
   "execution_count": 58,
   "id": "f993fee8",
   "metadata": {
    "id": "f993fee8",
    "outputId": "2610518f-b71d-465b-fdd7-2f05f257bed8"
   },
   "outputs": [
    {
     "data": {
      "text/plain": [
       "VarianceThreshold(threshold=0.8)"
      ]
     },
     "execution_count": 58,
     "metadata": {},
     "output_type": "execute_result"
    }
   ],
   "source": [
    "from sklearn.feature_selection import VarianceThreshold\n",
    "factor = VarianceThreshold(0.8)\n",
    "factor.fit(main_train_x)"
   ]
  },
  {
   "cell_type": "code",
   "execution_count": 59,
   "id": "13807068",
   "metadata": {
    "id": "13807068",
    "outputId": "cccaa4bb-c7d4-4823-fcbe-071c34eb923a"
   },
   "outputs": [
    {
     "data": {
      "text/plain": [
       "array([5.63141720e+00, 1.57189081e+09, 8.58558435e-01, 6.75872113e-02,\n",
       "       7.07536845e+01, 7.72779439e+01])"
      ]
     },
     "execution_count": 59,
     "metadata": {},
     "output_type": "execute_result"
    }
   ],
   "source": [
    "factor.variances_"
   ]
  },
  {
   "cell_type": "markdown",
   "id": "5418120c",
   "metadata": {
    "id": "5418120c"
   },
   "source": [
    "## Modelling "
   ]
  },
  {
   "cell_type": "markdown",
   "id": "1383d9b8",
   "metadata": {
    "id": "1383d9b8"
   },
   "source": [
    "## Linear Regression"
   ]
  },
  {
   "cell_type": "code",
   "execution_count": 60,
   "id": "89fb3ae2",
   "metadata": {
    "id": "89fb3ae2",
    "outputId": "a82dce9a-c75d-470c-967a-1c7ebe5e691a"
   },
   "outputs": [
    {
     "data": {
      "text/plain": [
       "LinearRegression()"
      ]
     },
     "execution_count": 60,
     "metadata": {},
     "output_type": "execute_result"
    }
   ],
   "source": [
    "base_model = LinearRegression()\n",
    "base_model.fit(main_train_x, main_train_y)"
   ]
  },
  {
   "cell_type": "code",
   "execution_count": 61,
   "id": "8e6e8f75",
   "metadata": {
    "id": "8e6e8f75"
   },
   "outputs": [],
   "source": [
    "val_y_predict = base_model.predict(val_x)"
   ]
  },
  {
   "cell_type": "code",
   "execution_count": 62,
   "id": "4b0007b3",
   "metadata": {
    "id": "4b0007b3",
    "outputId": "75283417-759f-46ca-c0c9-91fa8e08ffc0"
   },
   "outputs": [
    {
     "name": "stdout",
     "output_type": "stream",
     "text": [
      "5.884044513833513\n",
      "2.4257049519332545\n"
     ]
    }
   ],
   "source": [
    "# mean_squared_error(val_y, val_y_predict, squared=False)\n",
    "mse=mean_squared_error(val_y,val_y_predict, squared=False)\n",
    "print(mse)\n",
    "rmse=math.sqrt(mse)\n",
    "print(rmse)"
   ]
  },
  {
   "cell_type": "code",
   "execution_count": 63,
   "id": "ab382b13",
   "metadata": {
    "id": "ab382b13",
    "outputId": "4bd5d2b7-32e2-44c7-9e8c-190f148237f8"
   },
   "outputs": [
    {
     "data": {
      "text/plain": [
       "0.5412662300186586"
      ]
     },
     "execution_count": 63,
     "metadata": {},
     "output_type": "execute_result"
    }
   ],
   "source": [
    "r2_score(val_y, val_y_predict)"
   ]
  },
  {
   "cell_type": "markdown",
   "id": "f2cb9730",
   "metadata": {
    "id": "f2cb9730"
   },
   "source": [
    "## Decision Tree"
   ]
  },
  {
   "cell_type": "code",
   "execution_count": 64,
   "id": "cbeee107",
   "metadata": {
    "id": "cbeee107"
   },
   "outputs": [],
   "source": [
    "regressor = DecisionTreeRegressor(\n",
    "    criterion='mse',\n",
    "    splitter='best',\n",
    "    max_depth=4,\n",
    "    min_samples_split=2,\n",
    "    min_samples_leaf=1,\n",
    "    min_weight_fraction_leaf=0.0,\n",
    "    max_features=None,\n",
    "    random_state=None,\n",
    "    max_leaf_nodes=None,\n",
    "    min_impurity_decrease=0.0,\n",
    "    min_impurity_split=None,\n",
    "    ccp_alpha=0.0,\n",
    ")"
   ]
  },
  {
   "cell_type": "code",
   "execution_count": 65,
   "id": "cc794ae8",
   "metadata": {
    "id": "cc794ae8",
    "outputId": "46a6fd01-aaf7-4786-ff0e-0994dd620a53"
   },
   "outputs": [
    {
     "data": {
      "text/plain": [
       "DecisionTreeRegressor(max_depth=4)"
      ]
     },
     "execution_count": 65,
     "metadata": {},
     "output_type": "execute_result"
    }
   ],
   "source": [
    "regressor.fit(main_train_x, main_train_y)"
   ]
  },
  {
   "cell_type": "code",
   "execution_count": 66,
   "id": "be02e3e6",
   "metadata": {
    "id": "be02e3e6"
   },
   "outputs": [],
   "source": [
    "y_predict2 = regressor.predict(val_x)"
   ]
  },
  {
   "cell_type": "code",
   "execution_count": 67,
   "id": "7e1da85d",
   "metadata": {
    "id": "7e1da85d",
    "outputId": "2670dfe8-0a5c-4cc8-dc17-c20ad9de3b7d"
   },
   "outputs": [
    {
     "name": "stdout",
     "output_type": "stream",
     "text": [
      "7.601050516456469\n",
      "2.757000275019295\n"
     ]
    }
   ],
   "source": [
    "mse=mean_squared_error(val_y,y_predict2, squared=False)\n",
    "print(mse)\n",
    "rmse=math.sqrt(mse)\n",
    "print(rmse)"
   ]
  },
  {
   "cell_type": "code",
   "execution_count": 68,
   "id": "6bf8aeb0",
   "metadata": {
    "id": "6bf8aeb0",
    "outputId": "19f53d5a-7eb7-43e3-ed3b-5c8c8203ffeb"
   },
   "outputs": [
    {
     "data": {
      "text/plain": [
       "0.23448086520884381"
      ]
     },
     "execution_count": 68,
     "metadata": {},
     "output_type": "execute_result"
    }
   ],
   "source": [
    "r2_score(val_y, y_predict2)"
   ]
  },
  {
   "cell_type": "markdown",
   "id": "815e9b70",
   "metadata": {
    "id": "815e9b70"
   },
   "source": [
    "## SVR "
   ]
  },
  {
   "cell_type": "code",
   "execution_count": 69,
   "id": "5cfc7ca2",
   "metadata": {
    "id": "5cfc7ca2",
    "outputId": "71fb8938-98bb-4bb7-b5a8-9c71101e17d8"
   },
   "outputs": [
    {
     "data": {
      "text/plain": [
       "SVR()"
      ]
     },
     "execution_count": 69,
     "metadata": {},
     "output_type": "execute_result"
    }
   ],
   "source": [
    "SVRregressor = SVR(kernel='rbf')\n",
    "SVRregressor.fit(main_train_x,main_train_y)"
   ]
  },
  {
   "cell_type": "code",
   "execution_count": 70,
   "id": "bb8014f5",
   "metadata": {
    "id": "bb8014f5"
   },
   "outputs": [],
   "source": [
    "y_val_svr = SVRregressor.predict(val_x) "
   ]
  },
  {
   "cell_type": "code",
   "execution_count": 71,
   "id": "603c8aea",
   "metadata": {
    "id": "603c8aea",
    "outputId": "1dfdeb04-8d3e-49d8-cc68-e73afc64278f"
   },
   "outputs": [
    {
     "name": "stdout",
     "output_type": "stream",
     "text": [
      "8.711952627767111\n",
      "2.9516017054757087\n"
     ]
    }
   ],
   "source": [
    "mse=mean_squared_error(val_y,y_val_svr, squared=False)\n",
    "print(mse)\n",
    "rmse=math.sqrt(mse)\n",
    "print(rmse)"
   ]
  },
  {
   "cell_type": "code",
   "execution_count": 72,
   "id": "355acde8",
   "metadata": {
    "id": "355acde8",
    "outputId": "a24b8ac5-7457-49cf-a24b-ca88312b2a8e"
   },
   "outputs": [
    {
     "data": {
      "text/plain": [
       "-0.005633711148154363"
      ]
     },
     "execution_count": 72,
     "metadata": {},
     "output_type": "execute_result"
    }
   ],
   "source": [
    "r2_score(val_y, y_val_svr)"
   ]
  },
  {
   "cell_type": "markdown",
   "id": "5ea88e41",
   "metadata": {
    "id": "5ea88e41"
   },
   "source": [
    "#### Boosting"
   ]
  },
  {
   "cell_type": "code",
   "execution_count": 73,
   "id": "276ca1da",
   "metadata": {
    "id": "276ca1da",
    "outputId": "d3347349-58da-4317-a585-5d9259425598"
   },
   "outputs": [
    {
     "data": {
      "text/plain": [
       "XGBRegressor(base_score=0.5, booster='gbtree', colsample_bylevel=1,\n",
       "             colsample_bynode=1, colsample_bytree=1, gamma=0, gpu_id=-1,\n",
       "             importance_type='gain', interaction_constraints='',\n",
       "             learning_rate=0.001, max_delta_step=0, max_depth=10,\n",
       "             min_child_weight=1, missing=nan, monotone_constraints='()',\n",
       "             n_estimators=10, n_jobs=8, num_parallel_tree=1, random_state=0,\n",
       "             reg_alpha=0, reg_lambda=1, scale_pos_weight=1, subsample=1,\n",
       "             tree_method='exact', validate_parameters=1, verbosity=None)"
      ]
     },
     "execution_count": 73,
     "metadata": {},
     "output_type": "execute_result"
    }
   ],
   "source": [
    "model = XGBRegressor(n_estimators=10, max_depth=10, learning_rate=0.001)\n",
    "model.fit(main_train_x, main_train_y)"
   ]
  },
  {
   "cell_type": "code",
   "execution_count": 74,
   "id": "a21291f6",
   "metadata": {
    "id": "a21291f6"
   },
   "outputs": [],
   "source": [
    "y_predict_boost = model.predict(val_x)"
   ]
  },
  {
   "cell_type": "code",
   "execution_count": 75,
   "id": "48d440ad",
   "metadata": {
    "id": "48d440ad",
    "outputId": "1ea029ec-5823-48c2-cd23-22f5969efd66"
   },
   "outputs": [
    {
     "name": "stdout",
     "output_type": "stream",
     "text": [
      "8.674588731864155\n",
      "2.9452654773151017\n"
     ]
    }
   ],
   "source": [
    "mse=mean_squared_error(val_y,y_predict_boost, squared=False)\n",
    "print(mse)\n",
    "rmse=math.sqrt(mse)\n",
    "print(rmse)"
   ]
  },
  {
   "cell_type": "code",
   "execution_count": 76,
   "id": "0590b1e2",
   "metadata": {
    "id": "0590b1e2",
    "outputId": "08a888c9-9bb2-4338-93e8-48d5688660d3"
   },
   "outputs": [
    {
     "data": {
      "text/plain": [
       "0.0029737320312099857"
      ]
     },
     "execution_count": 76,
     "metadata": {},
     "output_type": "execute_result"
    }
   ],
   "source": [
    "r2_score(val_y, y_predict_boost)"
   ]
  },
  {
   "cell_type": "markdown",
   "id": "5d348a2f",
   "metadata": {
    "id": "5d348a2f"
   },
   "source": [
    "##  After seeing the r2 score of every model Linear regression model can be considered for further testing "
   ]
  },
  {
   "cell_type": "markdown",
   "id": "e848a61d",
   "metadata": {},
   "source": [
    "#### For predicting payment date in  major test set with all null values in clear date, we need to preprocess the test data set "
   ]
  },
  {
   "cell_type": "code",
   "execution_count": 77,
   "id": "b2e7573a",
   "metadata": {
    "id": "b2e7573a"
   },
   "outputs": [
    {
     "data": {
      "text/plain": [
       "Index(['name_customer', 'total_open_amount', 'bus_code_target',\n",
       "       'invoice_curr_enc', 'cust_payment_terms_enc', 'due_in_day'],\n",
       "      dtype='object')"
      ]
     },
     "execution_count": 77,
     "metadata": {},
     "output_type": "execute_result"
    }
   ],
   "source": [
    "main_train_x.columns"
   ]
  },
  {
   "cell_type": "code",
   "execution_count": 78,
   "id": "f5c73923",
   "metadata": {},
   "outputs": [
    {
     "data": {
      "text/plain": [
       "Index(['business_code', 'cust_number', 'name_customer', 'clear_date',\n",
       "       'buisness_year', 'doc_id', 'posting_date', 'document_create_date',\n",
       "       'document_create_date.1', 'due_in_date', 'invoice_currency',\n",
       "       'document type', 'posting_id', 'area_business', 'total_open_amount',\n",
       "       'baseline_create_date', 'cust_payment_terms', 'invoice_id', 'isOpen'],\n",
       "      dtype='object')"
      ]
     },
     "execution_count": 78,
     "metadata": {},
     "output_type": "execute_result"
    }
   ],
   "source": [
    "test.columns"
   ]
  },
  {
   "cell_type": "code",
   "execution_count": 79,
   "id": "0a16e35d",
   "metadata": {},
   "outputs": [
    {
     "name": "stdout",
     "output_type": "stream",
     "text": [
      "<class 'pandas.core.frame.DataFrame'>\n",
      "RangeIndex: 10000 entries, 0 to 9999\n",
      "Data columns (total 19 columns):\n",
      " #   Column                  Non-Null Count  Dtype  \n",
      "---  ------                  --------------  -----  \n",
      " 0   business_code           10000 non-null  object \n",
      " 1   cust_number             10000 non-null  object \n",
      " 2   name_customer           10000 non-null  object \n",
      " 3   clear_date              0 non-null      object \n",
      " 4   buisness_year           10000 non-null  float64\n",
      " 5   doc_id                  10000 non-null  float64\n",
      " 6   posting_date            10000 non-null  object \n",
      " 7   document_create_date    10000 non-null  int64  \n",
      " 8   document_create_date.1  10000 non-null  int64  \n",
      " 9   due_in_date             10000 non-null  float64\n",
      " 10  invoice_currency        10000 non-null  object \n",
      " 11  document type           10000 non-null  object \n",
      " 12  posting_id              10000 non-null  float64\n",
      " 13  area_business           0 non-null      float64\n",
      " 14  total_open_amount       10000 non-null  float64\n",
      " 15  baseline_create_date    10000 non-null  float64\n",
      " 16  cust_payment_terms      10000 non-null  object \n",
      " 17  invoice_id              10000 non-null  float64\n",
      " 18  isOpen                  10000 non-null  int64  \n",
      "dtypes: float64(8), int64(3), object(8)\n",
      "memory usage: 1.4+ MB\n"
     ]
    }
   ],
   "source": [
    "test.info()"
   ]
  },
  {
   "cell_type": "code",
   "execution_count": 80,
   "id": "8ad6549e",
   "metadata": {},
   "outputs": [
    {
     "data": {
      "text/plain": [
       "(array(['CAD', 'USD'], dtype=object),\n",
       " array(['B052', 'B112', 'BR56', 'C106', 'CA10', 'CA30', 'CAB1', 'NA10',\n",
       "        'NA25', 'NA31', 'NA32', 'NA38', 'NA3B', 'NA3F', 'NA84', 'NA9X',\n",
       "        'NAA8', 'NAAW', 'NAAX', 'NAB1', 'NABG', 'NAC6', 'NACB', 'NAD1',\n",
       "        'NAD4', 'NAD5', 'NAG2', 'NAGD', 'NAH4', 'NAM1', 'NAM2', 'NAM4',\n",
       "        'NANC', 'NATH', 'NATJ', 'NATK', 'NAU5', 'NAUP', 'NAUZ', 'NAV9',\n",
       "        'NAVC', 'NAVD', 'NAVE', 'NAVF', 'NAVL', 'NAVM', 'NAVQ', 'NAVR',\n",
       "        'NAWM', 'NAWN', 'NAWP', 'NAX2', 'NAWU', 'NATX', 'BR12', 'NAUW',\n",
       "        'NATW', '90M7', 'NAM3', 'NATV', 'NAUN', 'NACE', 'NATZ', 'NA8Q'],\n",
       "       dtype=object),\n",
       " business_code\n",
       " CA02    2.943538\n",
       " U001   -0.524922\n",
       " U002    3.086207\n",
       " U005    6.125000\n",
       " U007    4.000000\n",
       " U013    0.027027\n",
       " Name: delay, dtype: float64)"
      ]
     },
     "execution_count": 80,
     "metadata": {},
     "output_type": "execute_result"
    }
   ],
   "source": [
    "invoice_curr_encoder.classes_,cust_payment_terms_encoder.classes_,bussiness_mean"
   ]
  },
  {
   "cell_type": "code",
   "execution_count": 81,
   "id": "969280d9",
   "metadata": {},
   "outputs": [],
   "source": [
    "test['bus_code_target'] = test['business_code'].map(bussiness_mean)\n",
    "test['name_customer'] = test['name_customer'].map(mean)\n",
    "# for adding unseen variable\n",
    "extra = set(test['cust_payment_terms'])-set(cust_payment_terms_encoder.classes_)\n",
    "# adding them to the classess variable // \n",
    "for i in extra:\n",
    "    cust_payment_terms_encoder.classes_ = np.append(cust_payment_terms_encoder.classes_,i)\n",
    "test['cust_payment_terms_enc'] = cust_payment_terms_encoder.transform(test['cust_payment_terms'])\n",
    "test['invoice_curr_enc'] = invoice_curr_encoder.transform(test['invoice_currency'])\n",
    "test[\"due_in_date\"]= pd.to_datetime(test[\"due_in_date\"],format='%Y%m%d')\n",
    "test['due_in_day'] = test['due_in_date'].dt.day\n",
    "test_due_in_date = test[\"due_in_date\"]\n",
    "## deleting unwanted columns\n",
    "test.drop(['business_code', 'cust_number', 'clear_date',\n",
    "       'buisness_year', 'doc_id', 'posting_date', 'document_create_date',\n",
    "       'document_create_date.1', 'due_in_date', 'invoice_currency',\n",
    "       'document type', 'posting_id', 'area_business',\n",
    "       'baseline_create_date', 'cust_payment_terms', 'invoice_id', 'isOpen'],axis=1,inplace = True)"
   ]
  },
  {
   "cell_type": "code",
   "execution_count": 82,
   "id": "e15ea57e",
   "metadata": {},
   "outputs": [],
   "source": [
    "test[\"name_customer\"].fillna(test[\"name_customer\"].mean(),inplace=True)"
   ]
  },
  {
   "cell_type": "code",
   "execution_count": 83,
   "id": "f7b2ebb2",
   "metadata": {},
   "outputs": [
    {
     "name": "stdout",
     "output_type": "stream",
     "text": [
      "<class 'pandas.core.frame.DataFrame'>\n",
      "RangeIndex: 10000 entries, 0 to 9999\n",
      "Data columns (total 6 columns):\n",
      " #   Column                  Non-Null Count  Dtype  \n",
      "---  ------                  --------------  -----  \n",
      " 0   name_customer           10000 non-null  float64\n",
      " 1   total_open_amount       10000 non-null  float64\n",
      " 2   bus_code_target         10000 non-null  float64\n",
      " 3   cust_payment_terms_enc  10000 non-null  int32  \n",
      " 4   invoice_curr_enc        10000 non-null  int32  \n",
      " 5   due_in_day              10000 non-null  int64  \n",
      "dtypes: float64(3), int32(2), int64(1)\n",
      "memory usage: 390.8 KB\n"
     ]
    }
   ],
   "source": [
    "test.info()"
   ]
  },
  {
   "cell_type": "code",
   "execution_count": 84,
   "id": "1e23ab69",
   "metadata": {},
   "outputs": [],
   "source": [
    "test_delay_predict = base_model.predict(test)"
   ]
  },
  {
   "cell_type": "code",
   "execution_count": 85,
   "id": "57eab9d8",
   "metadata": {},
   "outputs": [
    {
     "data": {
      "text/plain": [
       "array([11.07915447,  7.83347712,  8.91188867, ..., 11.23072473,\n",
       "        8.54766793,  8.96176104])"
      ]
     },
     "execution_count": 85,
     "metadata": {},
     "output_type": "execute_result"
    }
   ],
   "source": [
    "test_delay_predict"
   ]
  },
  {
   "cell_type": "code",
   "execution_count": 86,
   "id": "5f751c0b",
   "metadata": {},
   "outputs": [],
   "source": [
    "test_delay_predict = pd.to_timedelta(test_delay_predict, unit=\"D\")"
   ]
  },
  {
   "cell_type": "code",
   "execution_count": 87,
   "id": "5bc06085",
   "metadata": {},
   "outputs": [
    {
     "data": {
      "text/html": [
       "<div>\n",
       "<style scoped>\n",
       "    .dataframe tbody tr th:only-of-type {\n",
       "        vertical-align: middle;\n",
       "    }\n",
       "\n",
       "    .dataframe tbody tr th {\n",
       "        vertical-align: top;\n",
       "    }\n",
       "\n",
       "    .dataframe thead th {\n",
       "        text-align: right;\n",
       "    }\n",
       "</style>\n",
       "<table border=\"1\" class=\"dataframe\">\n",
       "  <thead>\n",
       "    <tr style=\"text-align: right;\">\n",
       "      <th></th>\n",
       "      <th>name_customer</th>\n",
       "      <th>total_open_amount</th>\n",
       "      <th>bus_code_target</th>\n",
       "      <th>cust_payment_terms_enc</th>\n",
       "      <th>invoice_curr_enc</th>\n",
       "      <th>due_in_day</th>\n",
       "      <th>delay</th>\n",
       "      <th>due_in_date</th>\n",
       "      <th>predict_payment_date</th>\n",
       "    </tr>\n",
       "  </thead>\n",
       "  <tbody>\n",
       "    <tr>\n",
       "      <th>0</th>\n",
       "      <td>-2.802632</td>\n",
       "      <td>2851.12</td>\n",
       "      <td>-0.524922</td>\n",
       "      <td>28</td>\n",
       "      <td>1</td>\n",
       "      <td>24</td>\n",
       "      <td>11 days 01:53:58.946035200</td>\n",
       "      <td>2020-05-24</td>\n",
       "      <td>2020-06-04 01:53:58.946035200</td>\n",
       "    </tr>\n",
       "    <tr>\n",
       "      <th>1</th>\n",
       "      <td>0.000000</td>\n",
       "      <td>13529.55</td>\n",
       "      <td>-0.524922</td>\n",
       "      <td>16</td>\n",
       "      <td>1</td>\n",
       "      <td>17</td>\n",
       "      <td>7 days 20:00:12.423254400</td>\n",
       "      <td>2020-04-17</td>\n",
       "      <td>2020-04-24 20:00:12.423254400</td>\n",
       "    </tr>\n",
       "    <tr>\n",
       "      <th>2</th>\n",
       "      <td>1.083333</td>\n",
       "      <td>6995.52</td>\n",
       "      <td>-0.524922</td>\n",
       "      <td>16</td>\n",
       "      <td>1</td>\n",
       "      <td>20</td>\n",
       "      <td>8 days 21:53:07.181433600</td>\n",
       "      <td>2020-05-20</td>\n",
       "      <td>2020-05-28 21:53:07.181433600</td>\n",
       "    </tr>\n",
       "    <tr>\n",
       "      <th>3</th>\n",
       "      <td>0.046154</td>\n",
       "      <td>115796.68</td>\n",
       "      <td>-0.524922</td>\n",
       "      <td>21</td>\n",
       "      <td>1</td>\n",
       "      <td>22</td>\n",
       "      <td>10 days 03:34:32.753452799</td>\n",
       "      <td>2020-05-22</td>\n",
       "      <td>2020-06-01 03:34:32.753452799</td>\n",
       "    </tr>\n",
       "    <tr>\n",
       "      <th>4</th>\n",
       "      <td>0.923077</td>\n",
       "      <td>57674.61</td>\n",
       "      <td>-0.524922</td>\n",
       "      <td>16</td>\n",
       "      <td>1</td>\n",
       "      <td>8</td>\n",
       "      <td>8 days 13:55:17.951145600</td>\n",
       "      <td>2020-04-08</td>\n",
       "      <td>2020-04-16 13:55:17.951145600</td>\n",
       "    </tr>\n",
       "    <tr>\n",
       "      <th>...</th>\n",
       "      <td>...</td>\n",
       "      <td>...</td>\n",
       "      <td>...</td>\n",
       "      <td>...</td>\n",
       "      <td>...</td>\n",
       "      <td>...</td>\n",
       "      <td>...</td>\n",
       "      <td>...</td>\n",
       "      <td>...</td>\n",
       "    </tr>\n",
       "    <tr>\n",
       "      <th>9995</th>\n",
       "      <td>-0.017019</td>\n",
       "      <td>32164.52</td>\n",
       "      <td>-0.524922</td>\n",
       "      <td>16</td>\n",
       "      <td>1</td>\n",
       "      <td>15</td>\n",
       "      <td>7 days 18:23:28.883068800</td>\n",
       "      <td>2020-05-15</td>\n",
       "      <td>2020-05-22 18:23:28.883068800</td>\n",
       "    </tr>\n",
       "    <tr>\n",
       "      <th>9996</th>\n",
       "      <td>-2.645951</td>\n",
       "      <td>29444.13</td>\n",
       "      <td>-0.524922</td>\n",
       "      <td>28</td>\n",
       "      <td>1</td>\n",
       "      <td>20</td>\n",
       "      <td>11 days 03:37:59.120889600</td>\n",
       "      <td>2020-05-20</td>\n",
       "      <td>2020-05-31 03:37:59.120889600</td>\n",
       "    </tr>\n",
       "    <tr>\n",
       "      <th>9997</th>\n",
       "      <td>-2.621569</td>\n",
       "      <td>2677.34</td>\n",
       "      <td>-0.524922</td>\n",
       "      <td>28</td>\n",
       "      <td>1</td>\n",
       "      <td>20</td>\n",
       "      <td>11 days 05:32:14.616931200</td>\n",
       "      <td>2020-04-20</td>\n",
       "      <td>2020-05-01 05:32:14.616931200</td>\n",
       "    </tr>\n",
       "    <tr>\n",
       "      <th>9998</th>\n",
       "      <td>0.666667</td>\n",
       "      <td>14211.84</td>\n",
       "      <td>-0.524922</td>\n",
       "      <td>16</td>\n",
       "      <td>1</td>\n",
       "      <td>29</td>\n",
       "      <td>8 days 13:08:38.509411200</td>\n",
       "      <td>2020-03-29</td>\n",
       "      <td>2020-04-06 13:08:38.509411200</td>\n",
       "    </tr>\n",
       "    <tr>\n",
       "      <th>9999</th>\n",
       "      <td>1.208333</td>\n",
       "      <td>3952.80</td>\n",
       "      <td>-0.524922</td>\n",
       "      <td>16</td>\n",
       "      <td>1</td>\n",
       "      <td>7</td>\n",
       "      <td>8 days 23:04:56.154115200</td>\n",
       "      <td>2020-05-07</td>\n",
       "      <td>2020-05-15 23:04:56.154115200</td>\n",
       "    </tr>\n",
       "  </tbody>\n",
       "</table>\n",
       "<p>10000 rows × 9 columns</p>\n",
       "</div>"
      ],
      "text/plain": [
       "      name_customer  total_open_amount  bus_code_target  \\\n",
       "0         -2.802632            2851.12        -0.524922   \n",
       "1          0.000000           13529.55        -0.524922   \n",
       "2          1.083333            6995.52        -0.524922   \n",
       "3          0.046154          115796.68        -0.524922   \n",
       "4          0.923077           57674.61        -0.524922   \n",
       "...             ...                ...              ...   \n",
       "9995      -0.017019           32164.52        -0.524922   \n",
       "9996      -2.645951           29444.13        -0.524922   \n",
       "9997      -2.621569            2677.34        -0.524922   \n",
       "9998       0.666667           14211.84        -0.524922   \n",
       "9999       1.208333            3952.80        -0.524922   \n",
       "\n",
       "      cust_payment_terms_enc  invoice_curr_enc  due_in_day  \\\n",
       "0                         28                 1          24   \n",
       "1                         16                 1          17   \n",
       "2                         16                 1          20   \n",
       "3                         21                 1          22   \n",
       "4                         16                 1           8   \n",
       "...                      ...               ...         ...   \n",
       "9995                      16                 1          15   \n",
       "9996                      28                 1          20   \n",
       "9997                      28                 1          20   \n",
       "9998                      16                 1          29   \n",
       "9999                      16                 1           7   \n",
       "\n",
       "                          delay due_in_date          predict_payment_date  \n",
       "0    11 days 01:53:58.946035200  2020-05-24 2020-06-04 01:53:58.946035200  \n",
       "1     7 days 20:00:12.423254400  2020-04-17 2020-04-24 20:00:12.423254400  \n",
       "2     8 days 21:53:07.181433600  2020-05-20 2020-05-28 21:53:07.181433600  \n",
       "3    10 days 03:34:32.753452799  2020-05-22 2020-06-01 03:34:32.753452799  \n",
       "4     8 days 13:55:17.951145600  2020-04-08 2020-04-16 13:55:17.951145600  \n",
       "...                         ...         ...                           ...  \n",
       "9995  7 days 18:23:28.883068800  2020-05-15 2020-05-22 18:23:28.883068800  \n",
       "9996 11 days 03:37:59.120889600  2020-05-20 2020-05-31 03:37:59.120889600  \n",
       "9997 11 days 05:32:14.616931200  2020-04-20 2020-05-01 05:32:14.616931200  \n",
       "9998  8 days 13:08:38.509411200  2020-03-29 2020-04-06 13:08:38.509411200  \n",
       "9999  8 days 23:04:56.154115200  2020-05-07 2020-05-15 23:04:56.154115200  \n",
       "\n",
       "[10000 rows x 9 columns]"
      ]
     },
     "execution_count": 87,
     "metadata": {},
     "output_type": "execute_result"
    }
   ],
   "source": [
    "test[\"delay\"] = test_delay_predict\n",
    "test[\"due_in_date\"] = test_due_in_date\n",
    "test[\"predict_payment_date\"] = test[\"due_in_date\"] + test[\"delay\"]\n",
    "test[\"predict_payment_date\"] = pd.to_datetime(test[\"predict_payment_date\"],format=\"%Y%m%d\" )\n",
    "test"
   ]
  },
  {
   "cell_type": "code",
   "execution_count": 88,
   "id": "fab01de9",
   "metadata": {},
   "outputs": [],
   "source": [
    "test.to_csv(\"Test_Results.csv\")"
   ]
  }
 ],
 "metadata": {
  "colab": {
   "name": "H2HBABBA2570_House Mike_Hrishikesh M Thakur_milestone3.ipynb",
   "provenance": []
  },
  "kernelspec": {
   "display_name": "Python 3",
   "language": "python",
   "name": "python3"
  },
  "language_info": {
   "codemirror_mode": {
    "name": "ipython",
    "version": 3
   },
   "file_extension": ".py",
   "mimetype": "text/x-python",
   "name": "python",
   "nbconvert_exporter": "python",
   "pygments_lexer": "ipython3",
   "version": "3.7.7"
  }
 },
 "nbformat": 4,
 "nbformat_minor": 5
}
